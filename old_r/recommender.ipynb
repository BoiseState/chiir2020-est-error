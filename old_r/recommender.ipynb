{
 "cells": [
  {
   "cell_type": "code",
   "execution_count": 1,
   "metadata": {},
   "outputs": [
    {
     "name": "stderr",
     "output_type": "stream",
     "text": [
      "Loading tidyverse: ggplot2\n",
      "Loading tidyverse: tibble\n",
      "Loading tidyverse: tidyr\n",
      "Loading tidyverse: readr\n",
      "Loading tidyverse: purrr\n",
      "Loading tidyverse: dplyr\n",
      "Conflicts with tidy packages ---------------------------------------------------\n",
      "filter(): dplyr, stats\n",
      "lag():    dplyr, stats\n"
     ]
    }
   ],
   "source": [
    "library(tidyverse)"
   ]
  },
  {
   "cell_type": "code",
   "execution_count": 2,
   "metadata": {
    "collapsed": true
   },
   "outputs": [],
   "source": [
    "partition_ratings = function(ratings, nparts=5) {\n",
    "    nRows = nrow(ratings)\n",
    "    # shuffle the row number\n",
    "    index = sample(nRows)\n",
    "    # equally divide nRows into nparts\n",
    "    partSizes = (nRows %/% nparts) * rep(1, nparts)\n",
    "    # equally divide the remainder and add to the first \"remainder\" parts\n",
    "    remainder = nRows %% nparts\n",
    "    if ( remainder > 0) {\n",
    "        partSizes[1:remainder] = partSizes[1:remainder] + 1\n",
    "    }\n",
    "    partInd = data_frame(part = 1:nparts, rowNumber=list(NULL))\n",
    "    startInd = 1\n",
    "    for (i in 1:nparts) {\n",
    "        endInd = startInd + partSizes[[i]] - 1\n",
    "        partInd[[i, \"rowNumber\"]] = index[startInd:endInd]\n",
    "        startInd = endInd + 1\n",
    "    }\n",
    "    partInd %>% unnest(rowNumber)\n",
    "}"
   ]
  },
  {
   "cell_type": "code",
   "execution_count": 3,
   "metadata": {
    "collapsed": true
   },
   "outputs": [],
   "source": [
    "partition_users = function(ratings, nparts=5, holdout=5) {\n",
    "    colnames(ratings) = c(\"userId\", \"itemId\")\n",
    "    # sample test set, for each user, select \"holdout\" items\n",
    "    testSet = ratings %>%\n",
    "        mutate(rowNumber=row_number()) %>%\n",
    "        group_by(userId) %>%\n",
    "        mutate(index = sample(n())) %>%\n",
    "        filter(index <= holdout) %>%\n",
    "        ungroup() %>%\n",
    "        select(-index)\n",
    "    uniqueUsers = unique(ratings$userId)\n",
    "    # shuffle the userId\n",
    "    uniqueUsers = sample(uniqueUsers)\n",
    "    nusers = length(uniqueUsers)\n",
    "    # partition users\n",
    "    userPartitions = data_frame(part = 1:nparts, userId=list(NULL))\n",
    "    partSizes = (nusers %/% nparts) * rep(1, nparts)\n",
    "    # equally divide the remainder and add to the first \"remainder\" parts\n",
    "    remainder = nusers %% nparts\n",
    "    if ( remainder > 0) {\n",
    "        partSizes[1:remainder] = partSizes[1:remainder] + 1\n",
    "    }\n",
    "    startInd = 1\n",
    "    for (i in 1:nparts) {\n",
    "        endInd = startInd + partSizes[[i]] - 1\n",
    "        userPartitions[[i, \"userId\"]] = uniqueUsers[startInd:endInd]\n",
    "        startInd = endInd + 1\n",
    "    }\n",
    "    userPartitions = userPartitions %>% unnest(userId)\n",
    "    # join userId partition with users' items return rowNumber for reference\n",
    "    userPartitions %>% \n",
    "        inner_join(testSet) %>%\n",
    "        select(part, rowNumber)\n",
    "}"
   ]
  },
  {
   "cell_type": "code",
   "execution_count": 4,
   "metadata": {
    "collapsed": true
   },
   "outputs": [],
   "source": [
    "recommend_oracle = function(candidates, groundtruth, topN) {\n",
    "    candidates %>%\n",
    "        left_join(groundtruth %>% mutate(score = 1)) %>% # the score means prediction\n",
    "        mutate(score = ifelse(is.na(score), 0, score)) %>%\n",
    "        group_by(userId) %>%\n",
    "        mutate(rank = rank(-score, ties.method = \"first\")) %>%\n",
    "        ungroup() %>%\n",
    "        arrange(userId, rank) %>%\n",
    "        filter(rank <= topN)\n",
    "}"
   ]
  },
  {
   "cell_type": "code",
   "execution_count": 5,
   "metadata": {
    "collapsed": true
   },
   "outputs": [],
   "source": [
    "recommend_popular = function(candidates, observation, topN) {\n",
    "    # prediction\n",
    "    popularScore = observation %>%\n",
    "        group_by(itemId) %>%\n",
    "        summarize(n = n()) %>%\n",
    "        mutate(score = n / max(n)) %>%\n",
    "        select(-n)\n",
    "    # join with predicted scores\n",
    "    candidates %>%\n",
    "        left_join(popularScore) %>%\n",
    "        group_by(userId) %>%\n",
    "        mutate(rank = rank(-score, ties.method = \"first\")) %>%\n",
    "        ungroup() %>%\n",
    "        arrange(userId, rank) %>%\n",
    "        filter(rank <= topN)\n",
    "}"
   ]
  },
  {
   "cell_type": "code",
   "execution_count": 6,
   "metadata": {
    "collapsed": true
   },
   "outputs": [],
   "source": [
    "recommend_random = function(candidates, topN) {\n",
    "    candidates %>%\n",
    "        group_by(userId) %>%\n",
    "        mutate(score = runif(n()),\n",
    "               rank = rank(-score, ties.method = \"first\")) %>%\n",
    "        ungroup() %>%\n",
    "        arrange(userId, rank) %>%\n",
    "        filter(rank <= topN)\n",
    "}"
   ]
  },
  {
   "cell_type": "markdown",
   "metadata": {},
   "source": [
    "All items excluding train.items means a user's all unrated items. the selected test items are also included as unrated."
   ]
  },
  {
   "cell_type": "code",
   "execution_count": 32,
   "metadata": {
    "collapsed": true
   },
   "outputs": [],
   "source": [
    "# ideal: all rated items for each user. userId-itemId-rel\n",
    "# recommendations: userId-itemId-score-rank\n",
    "compute_ndcg = function(recommendations, ideal, topN) {\n",
    "    dcg = recommendations %>%\n",
    "        left_join(ideal) %>%\n",
    "        mutate(rel=ifelse(is.na(rel), 0, rel),\n",
    "               dg=ifelse(rank==1, rel, rel / log2(rank))) %>%\n",
    "        group_by(userId) %>%\n",
    "        summarize(dcg = sum(dg)) %>%\n",
    "        ungroup()\n",
    "    idcg = ideal %>%\n",
    "        group_by(userId) %>%\n",
    "        mutate(rank = row_number()) %>%\n",
    "        ungroup() %>%\n",
    "        filter(rank <= topN) %>%\n",
    "        group_by(userId) %>%\n",
    "        mutate(idg=ifelse(rank==1, rel, rel / log2(rank))) %>%\n",
    "        summarize(idcg = sum(idg)) %>%\n",
    "        ungroup()\n",
    "    \n",
    "    dcg %>%\n",
    "        inner_join(idcg) %>%\n",
    "        mutate(ndcg = dcg / idcg) %>%\n",
    "        select(userId, ndcg)\n",
    "}"
   ]
  },
  {
   "cell_type": "code",
   "execution_count": null,
   "metadata": {
    "collapsed": true
   },
   "outputs": [],
   "source": [
    "compute_precision = function(recommendations, ideal, topN) {\n",
    "    recommendations %>%\n",
    "        filter(rank <= topN) %>%\n",
    "        left_join(ideal) %>%\n",
    "        mutate(rel=ifelse(is.na(rel), 0, rel)) %>%\n",
    "        group_by(userId) %>%\n",
    "        summarize(precision=mean(rel)) %>%\n",
    "        ungroup()\n",
    "}"
   ]
  },
  {
   "cell_type": "code",
   "execution_count": null,
   "metadata": {
    "collapsed": true
   },
   "outputs": [],
   "source": [
    "compute_recall = function(recommendations, ideal, topN) {\n",
    "    tp = recommendations %>%\n",
    "        filter(rank <= topN) %>%\n",
    "        left_join(ideal) %>%\n",
    "        group_by(userId) %>%\n",
    "        summarize(tp = sum(rel, na.rm = TRUE)) %>%\n",
    "        ungroup()\n",
    "    relevanceCount = ideal %>%\n",
    "        group_by(userId) %>%\n",
    "        summarize(relCount = n()) %>%\n",
    "        ungroup()\n",
    "    tp %>%\n",
    "        inner_join(relevanceCount) %>%\n",
    "        transmute(userId=userId,\n",
    "                  recall=tp / relCount)\n",
    "}"
   ]
  },
  {
   "cell_type": "code",
   "execution_count": null,
   "metadata": {
    "collapsed": true
   },
   "outputs": [],
   "source": [
    "compute_reciprocal_rank = function(recommendations, ideal, topN) {\n",
    "    validUserRR = recommendations %>%\n",
    "        filter(rank <= topN) %>%\n",
    "        left_join(ideal) %>%\n",
    "        filter(!is.na(rel)) %>% # lose users\n",
    "        group_by(userId) %>%\n",
    "        summarize(rankFirstRel=min(rank)) %>%\n",
    "        ungroup() %>%\n",
    "        transmute(userId=userId,\n",
    "                  reciprocal.rank=1 / rankFirstRel)\n",
    "    \n",
    "    recommendations %>%\n",
    "        select(userId) %>%\n",
    "        distinct() %>%\n",
    "        left_join(validUserRR)\n",
    "}"
   ]
  },
  {
   "cell_type": "code",
   "execution_count": null,
   "metadata": {
    "collapsed": true
   },
   "outputs": [],
   "source": [
    "compute_average_precision = function(recommendations, ideal, topN) {\n",
    "    validUserAP = recommendations %>%\n",
    "        filter(rank <= topN) %>%\n",
    "        left_join(ideal) %>%\n",
    "        mutate(rel=ifelse(is.na(rel), 0, rel)) %>%\n",
    "        group_by(userId) %>%\n",
    "        arrange(rank) %>%\n",
    "        mutate(cumsumRel = cumsum(rel),\n",
    "               precisionAtRank = cumsumRel / rank) %>%\n",
    "        ungroup() %>%\n",
    "        filter(rel != 0) %>% # lose users\n",
    "        group_by(userId) %>%\n",
    "        summarize(avg.precision=mean(precisionAtRank)) %>%\n",
    "        ungroup()\n",
    "    \n",
    "    recommendations %>%\n",
    "        select(userId) %>%\n",
    "        distinct() %>%\n",
    "        left_join(validUserAP)\n",
    "}"
   ]
  },
  {
   "cell_type": "code",
   "execution_count": null,
   "metadata": {
    "collapsed": true
   },
   "outputs": [],
   "source": [
    "compute_hit_rate = function(recommendations, ideal, topN) {\n",
    "    recommendations %>%\n",
    "        filter(rank <= topN) %>%\n",
    "        left_join(ideal) %>%\n",
    "        group_by(userId) %>%\n",
    "        summarize(hit=any(!is.na(rel))) %>%\n",
    "        ungroup()\n",
    "}"
   ]
  }
 ],
 "metadata": {
  "kernelspec": {
   "display_name": "R",
   "language": "R",
   "name": "ir"
  },
  "language_info": {
   "codemirror_mode": "r",
   "file_extension": ".r",
   "mimetype": "text/x-r-source",
   "name": "R",
   "pygments_lexer": "r",
   "version": "3.4.2"
  }
 },
 "nbformat": 4,
 "nbformat_minor": 2
}
