{
 "cells": [
  {
   "cell_type": "markdown",
   "metadata": {},
   "source": [
    "## Benchmarks for our model implementations"
   ]
  },
  {
   "cell_type": "code",
   "execution_count": 1,
   "metadata": {},
   "outputs": [],
   "source": [
    "import math\n",
    "import numpy as np\n",
    "import numba as nb\n",
    "from numba import njit\n",
    "import pandas as pd\n",
    "from scipy.special import gammaln\n",
    "from scipy.sparse import coo_matrix\n",
    "from lenskit.matrix import CSR\n",
    "\n",
    "from simulation_utils.preference import generate_ibp, generate_ibp_nb, \\\n",
    "    generate_ibp_nbp, generate_ibp_itemwise, generate_lda, generate_lda_nbp\n",
    "from simulation_utils.preference import _draw_bernoulli, _draw_bernoulli_nbp\n",
    "from simulation_utils.preference import _draw_nnew_ibp, _draw_nnew_ibp_nbp, _draw_poisson_nbp, \\\n",
    "    multinomial, _draw_multinomial_nbp\n",
    "from simulation_utils.preference import IndianBuffetProcess, LatentDirichletAllocation\n",
    "from simulation_utils.preference import LatentDirichletAllocationCOO\n",
    "from simulation_utils.observation import PopularityObservation, sample_uniform_n, sample_popular_n, \\\n",
    "    UniformObservation\n",
    "from simulation_utils.observation import PopularityObservationCOO, UniformObservationCOO, \\\n",
    "    sample_uniform_coo, sample_uniform_coo_nbp, sample_popular_coo, sample_popular_coo_nbp, TruncParetoProfile\n",
    "from simulation_utils.datasets import ml_100k, ml_10m, bx_implicit, DataStats\n",
    "from simulation_utils.calibration import compute_dstats, Calibrator, \\\n",
    "    _sample_pairs, _sample_pairs_nbp, compute_cosine_corr, pairwise_cosine_nbp\n",
    "from simulation_utils.calibration import CalibratorCOO, pairwise_cosine_similarity\n",
    "from simulation_utils.utils import compute_user_activity, TruncatedPareto, \\\n",
    "    truncated_pareto, truncated_pareto_nbp"
   ]
  },
  {
   "cell_type": "markdown",
   "metadata": {},
   "source": [
    "### Data statistics distribution\n",
    "- numpy vs pandas"
   ]
  },
  {
   "cell_type": "code",
   "execution_count": 4,
   "metadata": {},
   "outputs": [],
   "source": [
    "data = ml_100k()"
   ]
  },
  {
   "cell_type": "code",
   "execution_count": 5,
   "metadata": {},
   "outputs": [],
   "source": [
    "assert np.allclose(compute_dstats(data, normed=True).values, compute_user_activity(data))"
   ]
  },
  {
   "cell_type": "code",
   "execution_count": 6,
   "metadata": {},
   "outputs": [
    {
     "name": "stdout",
     "output_type": "stream",
     "text": [
      "3.69 ms ± 89 µs per loop (mean ± std. dev. of 7 runs, 100 loops each)\n",
      "5.31 ms ± 225 µs per loop (mean ± std. dev. of 7 runs, 100 loops each)\n"
     ]
    }
   ],
   "source": [
    "%timeit compute_dstats(data).values\n",
    "%timeit compute_user_activity(data)"
   ]
  },
  {
   "cell_type": "markdown",
   "metadata": {},
   "source": [
    "#### compute_dstats is picked"
   ]
  },
  {
   "cell_type": "code",
   "execution_count": 7,
   "metadata": {},
   "outputs": [
    {
     "name": "stdout",
     "output_type": "stream",
     "text": [
      " "
     ]
    },
    {
     "data": {
      "text/plain": [
       "         524 function calls (517 primitive calls) in 0.016 seconds\n",
       "\n",
       "   Ordered by: internal time\n",
       "   List reduced from 128 to 10 due to restriction <10>\n",
       "\n",
       "   ncalls  tottime  percall  cumtime  percall filename:lineno(function)\n",
       "        2    0.009    0.004    0.009    0.004 {method 'sort' of 'numpy.ndarray' objects}\n",
       "        2    0.005    0.003    0.015    0.007 arraysetops.py:268(_unique1d)\n",
       "        2    0.000    0.000    0.000    0.000 {method 'flatten' of 'numpy.ndarray' objects}\n",
       "        2    0.000    0.000    0.000    0.000 {method 'nonzero' of 'numpy.ndarray' objects}\n",
       "       96    0.000    0.000    0.000    0.000 {built-in method builtins.isinstance}\n",
       "        1    0.000    0.000    0.016    0.016 {built-in method builtins.exec}\n",
       "        1    0.000    0.000    0.000    0.000 base.py:253(__new__)\n",
       "        2    0.000    0.000    0.000    0.000 function_base.py:1079(diff)\n",
       "        1    0.000    0.000    0.015    0.015 calibration.py:43(compute_dstats)\n",
       "        2    0.000    0.000    0.001    0.000 series.py:152(__init__)"
      ]
     },
     "metadata": {},
     "output_type": "display_data"
    }
   ],
   "source": [
    "%prun -l 10 compute_dstats(data.values)"
   ]
  },
  {
   "cell_type": "code",
   "execution_count": 8,
   "metadata": {},
   "outputs": [
    {
     "name": "stdout",
     "output_type": "stream",
     "text": [
      " "
     ]
    },
    {
     "data": {
      "text/plain": [
       "         9251 function calls (9132 primitive calls) in 0.024 seconds\n",
       "\n",
       "   Ordered by: internal time\n",
       "   List reduced from 508 to 10 due to restriction <10>\n",
       "\n",
       "   ncalls  tottime  percall  cumtime  percall filename:lineno(function)\n",
       "        2    0.004    0.002    0.004    0.002 {method 'factorize' of 'pandas._libs.hashtable.Int64HashTable' objects}\n",
       "     1618    0.001    0.000    0.002    0.000 {built-in method builtins.isinstance}\n",
       "        3    0.001    0.000    0.001    0.000 {pandas._libs.algos.take_2d_axis0_int64_int64}\n",
       "        2    0.001    0.000    0.017    0.009 generic.py:1503(count)\n",
       "    16/14    0.001    0.000    0.003    0.000 base.py:253(__new__)\n",
       "      684    0.000    0.000    0.001    0.000 generic.py:7(_check)\n",
       "        8    0.000    0.000    0.000    0.000 {pandas._libs.algos.take_1d_int64_int64}\n",
       "  105/101    0.000    0.000    0.000    0.000 {built-in method numpy.core.multiarray.array}\n",
       "       11    0.000    0.000    0.001    0.000 managers.py:186(_rebuild_blknos_and_blklocs)\n",
       "      122    0.000    0.000    0.001    0.000 common.py:1845(_is_dtype_type)"
      ]
     },
     "metadata": {},
     "output_type": "display_data"
    }
   ],
   "source": [
    "%prun -l 10 compute_user_activity(data)"
   ]
  },
  {
   "cell_type": "markdown",
   "metadata": {},
   "source": [
    "### Indian Buffet Process\n",
    "#### lambda updates in indian buffet process\n",
    "- numpy, numba, numba parallel"
   ]
  },
  {
   "cell_type": "code",
   "execution_count": 2,
   "metadata": {},
   "outputs": [],
   "source": [
    "def ibp_update(nusers, alpha, c=1, sigma=0):\n",
    "    log_gamma_a = gammaln(1 + c)\n",
    "    log_gamma_b = gammaln(c + sigma)\n",
    "    users = np.arange(1, nusers + 1)\n",
    "    lam = alpha * np.exp(log_gamma_a + gammaln(users - 1 + c + sigma) - gammaln(users + c) - log_gamma_b)\n",
    "    return lam\n",
    "\n",
    "@njit\n",
    "def ibp_update_nb(nusers, alpha, c=1, sigma=0):\n",
    "    log_gamma_a = math.lgamma(1 + c)\n",
    "    log_gamma_b = math.lgamma(c + sigma)\n",
    "    users = np.arange(1, nusers + 1)\n",
    "    lam = np.empty_like(users, dtype=np.float64)\n",
    "    for i, u in np.ndenumerate(users):\n",
    "        lam[i] = alpha * math.exp(log_gamma_a + math.lgamma(u - 1 + c + sigma) - math.lgamma(u + c) - log_gamma_b)\n",
    "    return lam\n",
    "\n",
    "@njit(parallel=True)\n",
    "def ibp_update_nb_parallel(nusers, alpha, c=1, sigma=0):\n",
    "    log_gamma_a = math.lgamma(1 + c)\n",
    "    log_gamma_b = math.lgamma(c + sigma)\n",
    "    lam = np.empty(nusers, dtype=np.float64)\n",
    "    for u in nb.prange(1, nusers + 1):\n",
    "        lam[u - 1] = alpha * math.exp(log_gamma_a + math.lgamma(u - 1 + c + sigma) - math.lgamma(u + c) - log_gamma_b)\n",
    "    return lam"
   ]
  },
  {
   "cell_type": "code",
   "execution_count": 3,
   "metadata": {},
   "outputs": [
    {
     "name": "stdout",
     "output_type": "stream",
     "text": [
      "81.7 ms ± 2.36 ms per loop (mean ± std. dev. of 7 runs, 1 loop each)\n",
      "125 ms ± 1.31 ms per loop (mean ± std. dev. of 7 runs, 1 loop each)\n",
      "37 ms ± 332 µs per loop (mean ± std. dev. of 7 runs, 1 loop each)\n"
     ]
    }
   ],
   "source": [
    "%timeit ibp_update(1000000, 2000)\n",
    "%timeit ibp_update_nb(1000000, 2000)\n",
    "%timeit ibp_update_nb_parallel(1000000, 2000)"
   ]
  },
  {
   "cell_type": "code",
   "execution_count": 4,
   "metadata": {},
   "outputs": [],
   "source": [
    "lam1 = ibp_update(10000, 100)\n",
    "lam2 = ibp_update_nb(10000, 100)\n",
    "lam3 = ibp_update_nb_parallel(10000, 100)\n",
    "assert np.allclose(lam1, lam2, rtol=1e-8)\n",
    "assert np.allclose(lam2, lam3, rtol=1e-8)"
   ]
  },
  {
   "cell_type": "markdown",
   "metadata": {},
   "source": [
    "### Draw new items and consumed items for each user.\n",
    "- numpy vs numba parallel"
   ]
  },
  {
   "cell_type": "code",
   "execution_count": 5,
   "metadata": {},
   "outputs": [
    {
     "name": "stdout",
     "output_type": "stream",
     "text": [
      "9.39 ms ± 911 µs per loop (mean ± std. dev. of 7 runs, 10 loops each)\n",
      "5.09 ms ± 62.3 µs per loop (mean ± std. dev. of 7 runs, 1 loop each)\n"
     ]
    }
   ],
   "source": [
    "%timeit _draw_nnew_ibp(80000, 20000)\n",
    "%timeit _draw_nnew_ibp_nbp(80000, 20000)"
   ]
  },
  {
   "cell_type": "code",
   "execution_count": 42,
   "metadata": {},
   "outputs": [
    {
     "name": "stdout",
     "output_type": "stream",
     "text": [
      "4.76 ms ± 123 µs per loop (mean ± std. dev. of 7 runs, 100 loops each)\n",
      "775 µs ± 4.02 µs per loop (mean ± std. dev. of 7 runs, 1000 loops each)\n"
     ]
    }
   ],
   "source": [
    "prob = np.random.rand(80000)\n",
    "\n",
    "%timeit _draw_bernoulli(prob)\n",
    "%timeit _draw_bernoulli_nbp(prob)"
   ]
  },
  {
   "cell_type": "markdown",
   "metadata": {},
   "source": [
    "### Functions of Indian Buffect Process\n",
    "- Iteration space on users: numpy, numba, numba with precomputed mean parameters, numba parallel on drawing history user consumed items and new items.\n",
    "- Iteration space on items: numpy, multiprocessing parallel and numba parallel (drawing users for each item is independent)"
   ]
  },
  {
   "cell_type": "code",
   "execution_count": 3,
   "metadata": {},
   "outputs": [],
   "source": [
    "@njit\n",
    "def generate_ibppl(nusers, lambdas, c=1, sigma=0):\n",
    "    \"\"\"\n",
    "    A generator of Indian Buffet Process with power law behavior\n",
    "\n",
    "    Args:\n",
    "        nusers (int): The number of users\n",
    "        lambdas (1D-array): Precomputed mean parameters for drawing new users.\n",
    "\n",
    "    Returns:\n",
    "        list: picked items for each user.\n",
    "    \"\"\"\n",
    "    # the number of items picked\n",
    "    nitems_picked = 0\n",
    "    # the number of users who tried for each item (m_k)\n",
    "    npicks = np.ones(0, dtype=np.int64)\n",
    "    # item list of picked items for each user\n",
    "    items = []\n",
    "    for u in range(1, nusers + 1):\n",
    "        # pick from previously-used items with probability prob.\n",
    "        # (len(prob) == nitems_picked)\n",
    "        prob = (npicks - sigma) / (u - 1 + c)\n",
    "        pick = np.empty_like(prob, dtype=np.bool_)\n",
    "        for i, p in np.ndenumerate(prob):\n",
    "            hit = np.random.binomial(np.int(1), p) > 0\n",
    "            pick[i] = hit\n",
    "        repicked_items = np.arange(nitems_picked)[pick]\n",
    "        # update item pick counts\n",
    "        npicks[pick] = npicks[pick] + 1\n",
    "        # pick new items\n",
    "        lam = lambdas[u-1]\n",
    "        assert not np.isnan(lam)\n",
    "        nnew = np.random.poisson(lam)\n",
    "        new_items = np.arange(nitems_picked, nitems_picked + nnew)\n",
    "        # add new items to picked ones\n",
    "        if nnew > 0:\n",
    "            npicks = np.hstack((npicks, np.ones(nnew, dtype=np.int64)))\n",
    "            nitems_picked += nnew\n",
    "            items.append(np.hstack((repicked_items, new_items)))\n",
    "        else:\n",
    "            items.append(repicked_items) \n",
    "    return items"
   ]
  },
  {
   "cell_type": "code",
   "execution_count": null,
   "metadata": {},
   "outputs": [],
   "source": [
    "nusers = 10000\n",
    "nitems = 100000\n",
    "frac = 0.2\n",
    "lambdas = ibp_update_nb(10000, nitems * frac)"
   ]
  },
  {
   "cell_type": "code",
   "execution_count": 13,
   "metadata": {},
   "outputs": [
    {
     "name": "stdout",
     "output_type": "stream",
     "text": [
      "2min 34s ± 713 ms per loop (mean ± std. dev. of 7 runs, 1 loop each)\n"
     ]
    }
   ],
   "source": [
    "%timeit generate_ibp(nusers, nitems * frac)"
   ]
  },
  {
   "cell_type": "code",
   "execution_count": 14,
   "metadata": {},
   "outputs": [
    {
     "name": "stdout",
     "output_type": "stream",
     "text": [
      " "
     ]
    },
    {
     "data": {
      "text/plain": [
       "         8448571 function calls (8348567 primitive calls) in 159.488 seconds\n",
       "\n",
       "   Ordered by: internal time\n",
       "   List reduced from 227 to 20 due to restriction <20>\n",
       "\n",
       "   ncalls  tottime  percall  cumtime  percall filename:lineno(function)\n",
       "    10000   97.777    0.010   98.299    0.010 {method 'binomial' of 'mtrand.RandomState' objects}\n",
       "        1   35.848   35.848  158.562  158.562 preference.py:55(generate_ibp)\n",
       "    19207    9.157    0.000    9.157    0.000 {built-in method numpy.core.multiarray.concatenate}\n",
       "    40001    6.261    0.000    6.261    0.000 {built-in method numpy.core.multiarray.arange}\n",
       "    10000    1.891    0.000    2.319    0.000 internals.py:5017(_stack_arrays)\n",
       "    59606    1.144    0.000    1.144    0.000 {built-in method numpy.core.multiarray.empty}\n",
       "        1    0.926    0.926  159.488  159.488 <string>:1(<module>)\n",
       "    10000    0.696    0.000    7.765    0.001 frame.py:426(_init_dict)\n",
       "    40001    0.359    0.000    0.359    0.000 {method 'reduce' of 'numpy.ufunc' objects}\n",
       "  1959966    0.344    0.000    0.537    0.000 {built-in method builtins.isinstance}\n",
       "20000/10000    0.243    0.000    1.073    0.000 base.py:255(__new__)\n",
       "    10000    0.190    0.000    3.136    0.000 internals.py:4880(form_blocks)\n",
       "   158408    0.168    0.000    0.168    0.000 {built-in method numpy.core.multiarray.array}\n",
       "598448/508444    0.152    0.000    0.266    0.000 {built-in method builtins.len}\n",
       "   129996    0.150    0.000    0.214    0.000 common.py:1835(_get_dtype_type)\n",
       "   159998    0.149    0.000    0.347    0.000 base.py:61(is_dtype)\n",
       "    10001    0.136    0.000    0.341    0.000 internals.py:3363(_rebuild_blknos_and_blklocs)\n",
       "   220001    0.122    0.000    0.122    0.000 {built-in method builtins.hasattr}\n",
       "   329997    0.106    0.000    0.150    0.000 generic.py:7(_check)\n",
       "    20000    0.101    0.000    1.803    0.000 series.py:4019(_sanitize_array)"
      ]
     },
     "metadata": {},
     "output_type": "display_data"
    }
   ],
   "source": [
    "%prun -l 20 generate_ibp(nusers, nitems * frac)"
   ]
  },
  {
   "cell_type": "code",
   "execution_count": 15,
   "metadata": {},
   "outputs": [],
   "source": [
    "ibp = IndianBuffetProcess(nusers, nitems * frac)"
   ]
  },
  {
   "cell_type": "code",
   "execution_count": 16,
   "metadata": {},
   "outputs": [
    {
     "name": "stdout",
     "output_type": "stream",
     "text": [
      "1min 25s ± 758 ms per loop (mean ± std. dev. of 7 runs, 1 loop each)\n"
     ]
    }
   ],
   "source": [
    "%timeit ibp.generate()"
   ]
  },
  {
   "cell_type": "code",
   "execution_count": 17,
   "metadata": {},
   "outputs": [
    {
     "name": "stdout",
     "output_type": "stream",
     "text": [
      " "
     ]
    },
    {
     "data": {
      "text/plain": [
       "         7970079 function calls (7870075 primitive calls) in 88.396 seconds\n",
       "\n",
       "   Ordered by: internal time\n",
       "   List reduced from 216 to 20 due to restriction <20>\n",
       "\n",
       "   ncalls  tottime  percall  cumtime  percall filename:lineno(function)\n",
       "        1   76.599   76.599   76.599   76.599 preference.py:128(generate_ibp_nb)\n",
       "    10000    1.856    0.000    2.231    0.000 internals.py:5017(_stack_arrays)\n",
       "        1    1.737    1.737    1.737    1.737 {built-in method numpy.core.multiarray.concatenate}\n",
       "        1    0.992    0.992   87.580   87.580 preference.py:416(generate)\n",
       "    50002    0.851    0.000    0.851    0.000 {built-in method numpy.core.multiarray.empty}\n",
       "        1    0.816    0.816   88.396   88.396 <string>:1(<module>)\n",
       "    10000    0.506    0.000    7.291    0.001 frame.py:426(_init_dict)\n",
       "  1959965    0.348    0.000    0.539    0.000 {built-in method builtins.isinstance}\n",
       "20000/10000    0.244    0.000    1.078    0.000 base.py:255(__new__)\n",
       "    10000    0.192    0.000    3.053    0.000 internals.py:4880(form_blocks)\n",
       "   129996    0.155    0.000    0.220    0.000 common.py:1835(_get_dtype_type)\n",
       "   159998    0.151    0.000    0.347    0.000 base.py:61(is_dtype)\n",
       "   119996    0.149    0.000    0.149    0.000 {built-in method numpy.core.multiarray.array}\n",
       "560036/470032    0.147    0.000    0.262    0.000 {built-in method builtins.len}\n",
       "    10001    0.137    0.000    0.345    0.000 internals.py:3363(_rebuild_blknos_and_blklocs)\n",
       "   219999    0.124    0.000    0.124    0.000 {built-in method builtins.hasattr}\n",
       "   329997    0.105    0.000    0.149    0.000 generic.py:7(_check)\n",
       "    20000    0.100    0.000    1.592    0.000 series.py:4019(_sanitize_array)\n",
       "   559995    0.082    0.000    0.082    0.000 {built-in method builtins.getattr}\n",
       "    30002    0.078    0.000    0.078    0.000 {method 'fill' of 'numpy.ndarray' objects}"
      ]
     },
     "metadata": {},
     "output_type": "display_data"
    }
   ],
   "source": [
    "%prun -l 20 ibp.generate()"
   ]
  },
  {
   "cell_type": "code",
   "execution_count": 18,
   "metadata": {},
   "outputs": [
    {
     "name": "stdout",
     "output_type": "stream",
     "text": [
      "1min ± 768 ms per loop (mean ± std. dev. of 7 runs, 1 loop each)\n"
     ]
    }
   ],
   "source": [
    "%timeit generate_ibp_nb(nusers, nitems * frac)"
   ]
  },
  {
   "cell_type": "code",
   "execution_count": 19,
   "metadata": {},
   "outputs": [
    {
     "name": "stdout",
     "output_type": "stream",
     "text": [
      " "
     ]
    },
    {
     "data": {
      "text/plain": [
       "         153 function calls in 96.004 seconds\n",
       "\n",
       "   Ordered by: internal time\n",
       "   List reduced from 44 to 10 due to restriction <10>\n",
       "\n",
       "   ncalls  tottime  percall  cumtime  percall filename:lineno(function)\n",
       "        1   95.749   95.749   95.749   95.749 preference.py:128(generate_ibp_nb)\n",
       "        1    0.255    0.255   96.004   96.004 <string>:1(<module>)\n",
       "        1    0.000    0.000   96.004   96.004 {built-in method builtins.exec}\n",
       "        1    0.000    0.000    0.000    0.000 dispatcher.py:297(_compile_for_args)\n",
       "        1    0.000    0.000    0.000    0.000 dispatcher.py:631(compile)\n",
       "        4    0.000    0.000    0.000    0.000 misc.py:85(__init__)\n",
       "        4    0.000    0.000    0.000    0.000 abstract.py:54(__call__)\n",
       "       10    0.000    0.000    0.000    0.000 abstract.py:112(__hash__)\n",
       "        6    0.000    0.000    0.000    0.000 {built-in method _abc._abc_instancecheck}\n",
       "        5    0.000    0.000    0.000    0.000 {method 'get' of 'dict' objects}"
      ]
     },
     "metadata": {},
     "output_type": "display_data"
    }
   ],
   "source": [
    "%prun -l 10 generate_ibp_nb(nusers, nitems * frac)"
   ]
  },
  {
   "cell_type": "code",
   "execution_count": 22,
   "metadata": {},
   "outputs": [
    {
     "name": "stdout",
     "output_type": "stream",
     "text": [
      "1min 16s ± 701 ms per loop (mean ± std. dev. of 7 runs, 1 loop each)\n"
     ]
    }
   ],
   "source": [
    "%timeit generate_ibppl(nusers, lambdas)"
   ]
  },
  {
   "cell_type": "code",
   "execution_count": 23,
   "metadata": {},
   "outputs": [
    {
     "name": "stdout",
     "output_type": "stream",
     "text": [
      " "
     ]
    },
    {
     "data": {
      "text/plain": [
       "         139 function calls (135 primitive calls) in 76.908 seconds\n",
       "\n",
       "   Ordered by: internal time\n",
       "   List reduced from 56 to 10 due to restriction <10>\n",
       "\n",
       "   ncalls  tottime  percall  cumtime  percall filename:lineno(function)\n",
       "        1   76.627   76.627   76.627   76.627 <ipython-input-21-48114bb57801>:1(generate_ibppl)\n",
       "        1    0.280    0.280   76.908   76.908 <string>:1(<module>)\n",
       "        1    0.000    0.000   76.908   76.908 {built-in method builtins.exec}\n",
       "        1    0.000    0.000    0.000    0.000 dispatcher.py:297(_compile_for_args)\n",
       "        1    0.000    0.000    0.000    0.000 common.py:49(__init__)\n",
       "        3    0.000    0.000    0.000    0.000 abstract.py:54(__call__)\n",
       "        1    0.000    0.000    0.000    0.000 typeof.py:201(_typeof_ndarray)\n",
       "        1    0.000    0.000    0.000    0.000 npytypes.py:274(__init__)\n",
       "        6    0.000    0.000    0.000    0.000 {built-in method _abc._abc_instancecheck}\n",
       "        4    0.000    0.000    0.000    0.000 {method 'get' of 'dict' objects}"
      ]
     },
     "metadata": {},
     "output_type": "display_data"
    }
   ],
   "source": [
    "%prun -l 10 generate_ibppl(nusers, lambdas)"
   ]
  },
  {
   "cell_type": "code",
   "execution_count": 24,
   "metadata": {},
   "outputs": [
    {
     "name": "stdout",
     "output_type": "stream",
     "text": [
      "50.6 s ± 267 ms per loop (mean ± std. dev. of 7 runs, 1 loop each)\n"
     ]
    }
   ],
   "source": [
    "%timeit generate_ibp_nbp(nusers, nitems * frac)"
   ]
  },
  {
   "cell_type": "code",
   "execution_count": 25,
   "metadata": {},
   "outputs": [
    {
     "name": "stdout",
     "output_type": "stream",
     "text": [
      " "
     ]
    },
    {
     "data": {
      "text/plain": [
       "         153 function calls in 51.377 seconds\n",
       "\n",
       "   Ordered by: internal time\n",
       "   List reduced from 44 to 10 due to restriction <10>\n",
       "\n",
       "   ncalls  tottime  percall  cumtime  percall filename:lineno(function)\n",
       "        1   51.070   51.070   51.070   51.070 preference.py:251(generate_ibp_nbp)\n",
       "        1    0.306    0.306   51.377   51.377 <string>:1(<module>)\n",
       "        1    0.000    0.000   51.377   51.377 {built-in method builtins.exec}\n",
       "        1    0.000    0.000    0.000    0.000 dispatcher.py:297(_compile_for_args)\n",
       "        5    0.000    0.000    0.000    0.000 {method 'get' of 'dict' objects}\n",
       "        4    0.000    0.000    0.000    0.000 misc.py:85(__init__)\n",
       "        4    0.000    0.000    0.000    0.000 abstract.py:54(__call__)\n",
       "       16    0.000    0.000    0.000    0.000 misc.py:89(key)\n",
       "        1    0.000    0.000    0.000    0.000 dispatcher.py:631(compile)\n",
       "       10    0.000    0.000    0.000    0.000 abstract.py:112(__hash__)"
      ]
     },
     "metadata": {},
     "output_type": "display_data"
    }
   ],
   "source": [
    "%prun -l 10 generate_ibp_nbp(nusers, nitems * frac)"
   ]
  },
  {
   "cell_type": "code",
   "execution_count": null,
   "metadata": {},
   "outputs": [],
   "source": [
    "%timeit generate_ibp_itemwise(nusers, nitems * frac)"
   ]
  },
  {
   "cell_type": "code",
   "execution_count": null,
   "metadata": {},
   "outputs": [],
   "source": [
    "%prun -l 10 generate_ibp_itemwise(nusers, nitems * frac)"
   ]
  },
  {
   "cell_type": "code",
   "execution_count": 5,
   "metadata": {},
   "outputs": [],
   "source": [
    "@njit\n",
    "def sample_users(nusers, u_start, c=1, sigma=0):\n",
    "    # the number of users who tried for each item (m_k)\n",
    "    npicks = 1\n",
    "    users = [u_start - 1]\n",
    "    for u in range(u_start, nusers + 1):\n",
    "        prob = (npicks - sigma) / (u - 1 + c)\n",
    "        pick = np.random.binomial(np.int(1), prob) > 0\n",
    "        if pick:\n",
    "            users.append(u)\n",
    "            npicks += 1\n",
    "    return users\n",
    "\n",
    "def generate_ibp_columnwise(nusers, alpha, c=1.0, sigma=0.0):\n",
    "    nnew, _, _ = _draw_nnew_ibp_nbp(nusers, alpha, c, sigma)\n",
    "    u_starts = np.repeat(np.arange(2, nusers + 2), nnew)\n",
    "    users = []\n",
    "    for i in u_starts:\n",
    "        item_users = sample_users(nusers, i, c, sigma)\n",
    "        users.append(item_users)"
   ]
  },
  {
   "cell_type": "code",
   "execution_count": 5,
   "metadata": {},
   "outputs": [],
   "source": [
    "import multiprocessing\n",
    "from multiprocessing import Pool\n",
    "\n",
    "print(multiprocessing.cpu_count())\n",
    "\n",
    "def generate_ibp_columnwise_parallel(nusers, alpha, c=1.0, sigma=0.0):\n",
    "    nnew, _, _ = _draw_nnew_ibp_nbp(nusers, alpha, c, sigma)\n",
    "    u_starts = np.repeat(np.arange(2, nusers + 2), nnew)\n",
    "    nitems = len(u_starts)\n",
    "    args = zip([nusers] * nitems, u_starts, [c] * nitems, [sigma] * nitems)\n",
    "    with Pool(2) as p:\n",
    "        users = p.starmap(sample_users, args)\n",
    "    return users"
   ]
  },
  {
   "cell_type": "code",
   "execution_count": 6,
   "metadata": {},
   "outputs": [
    {
     "name": "stdout",
     "output_type": "stream",
     "text": [
      "58 s ± 659 ms per loop (mean ± std. dev. of 7 runs, 1 loop each)\n"
     ]
    }
   ],
   "source": [
    "%timeit generate_ibp_columnwise(nusers, nitems * frac)"
   ]
  },
  {
   "cell_type": "code",
   "execution_count": 11,
   "metadata": {},
   "outputs": [
    {
     "name": "stdout",
     "output_type": "stream",
     "text": [
      "42.3 s ± 381 ms per loop (mean ± std. dev. of 7 runs, 1 loop each)\n"
     ]
    }
   ],
   "source": [
    "%timeit generate_ibp_columnwise_parallel(nusers, nitems * frac)"
   ]
  },
  {
   "cell_type": "code",
   "execution_count": 8,
   "metadata": {},
   "outputs": [
    {
     "name": "stdout",
     "output_type": "stream",
     "text": [
      "20.3 s ± 140 ms per loop (mean ± std. dev. of 7 runs, 1 loop each)\n"
     ]
    }
   ],
   "source": [
    "%timeit generate_ibp_itemwise(nusers, nitems * frac)"
   ]
  },
  {
   "cell_type": "markdown",
   "metadata": {},
   "source": [
    "### generate_ibp_itemwise is picked"
   ]
  },
  {
   "cell_type": "markdown",
   "metadata": {},
   "source": [
    "### Functions to convert a sequence of records to a pandas dataframe"
   ]
  },
  {
   "cell_type": "code",
   "execution_count": 26,
   "metadata": {},
   "outputs": [],
   "source": [
    "items = generate_ibp_nbp(nusers, nitems * frac)"
   ]
  },
  {
   "cell_type": "code",
   "execution_count": 31,
   "metadata": {},
   "outputs": [],
   "source": [
    "def list2frame(items):\n",
    "    nusers = len(items)\n",
    "    nitems = [len(item) for item in items]\n",
    "    user = np.repeat(np.arange(nusers), nitems)\n",
    "    item = np.hstack(items)\n",
    "    return pd.DataFrame({'user': user, 'item': item})"
   ]
  },
  {
   "cell_type": "code",
   "execution_count": 32,
   "metadata": {},
   "outputs": [],
   "source": [
    "def list2frame_map_np(items):\n",
    "    nusers = len(items)\n",
    "    user = map(lambda x: np.full(len(x[1]), x[0], np.int64), zip(range(nusers), items))\n",
    "    user_item = np.hstack(map(np.array, zip(user, items))).T\n",
    "    return pd.DataFrame(user_item, columns=['user', 'item'])"
   ]
  },
  {
   "cell_type": "code",
   "execution_count": 33,
   "metadata": {},
   "outputs": [],
   "source": [
    "def list2frame_map_pd(items):\n",
    "    nusers = len(items)\n",
    "    user_item = map(lambda x: pd.DataFrame({'user': x[0], 'item': x[1]}),\n",
    "                    zip(range(nusers), items))\n",
    "    return pd.concat(user_item, axis=0, ignore_index=True)"
   ]
  },
  {
   "cell_type": "code",
   "execution_count": 34,
   "metadata": {},
   "outputs": [
    {
     "data": {
      "text/plain": [
       "True"
      ]
     },
     "execution_count": 34,
     "metadata": {},
     "output_type": "execute_result"
    }
   ],
   "source": [
    "np.allclose(list2frame(items[:200]), list2frame_map_np(items[:200]).values)"
   ]
  },
  {
   "cell_type": "code",
   "execution_count": 36,
   "metadata": {},
   "outputs": [
    {
     "name": "stdout",
     "output_type": "stream",
     "text": [
      "185 ms ± 2.37 ms per loop (mean ± std. dev. of 7 runs, 1 loop each)\n",
      "215 ms ± 1.96 ms per loop (mean ± std. dev. of 7 runs, 1 loop each)\n",
      "384 ms ± 3.05 ms per loop (mean ± std. dev. of 7 runs, 1 loop each)\n"
     ]
    }
   ],
   "source": [
    "%timeit list2frame(items[:500])\n",
    "%timeit list2frame_map_np(items[:500])\n",
    "%timeit list2frame_map_pd(items[:500])"
   ]
  },
  {
   "cell_type": "code",
   "execution_count": 37,
   "metadata": {},
   "outputs": [
    {
     "name": "stdout",
     "output_type": "stream",
     "text": [
      " "
     ]
    },
    {
     "data": {
      "text/plain": [
       "         60616 function calls (60610 primitive calls) in 3.790 seconds\n",
       "\n",
       "   Ordered by: internal time\n",
       "   List reduced from 132 to 10 due to restriction <10>\n",
       "\n",
       "   ncalls  tottime  percall  cumtime  percall filename:lineno(function)\n",
       "        2    1.357    0.678    1.361    0.681 internals.py:5017(_stack_arrays)\n",
       "        1    1.005    1.005    1.005    1.005 {built-in method numpy.core.multiarray.concatenate}\n",
       "        1    0.935    0.935    0.935    0.935 {method 'repeat' of 'numpy.ndarray' objects}\n",
       "        1    0.471    0.471    3.790    3.790 <string>:1(<module>)\n",
       "    10000    0.007    0.000    0.012    0.000 shape_base.py:11(atleast_1d)\n",
       "        5    0.004    0.001    0.004    0.001 {built-in method numpy.core.multiarray.empty}\n",
       "        1    0.002    0.002    0.014    0.014 shape_base.py:283(<listcomp>)\n",
       "    10009    0.002    0.000    0.002    0.000 {built-in method numpy.core.multiarray.array}\n",
       "    10000    0.002    0.000    0.004    0.000 numeric.py:504(asanyarray)\n",
       "        1    0.002    0.002    0.002    0.002 <ipython-input-31-9e62cf62a17d>:3(<listcomp>)"
      ]
     },
     "metadata": {},
     "output_type": "display_data"
    }
   ],
   "source": [
    "%prun -l 10 list2frame(items)"
   ]
  },
  {
   "cell_type": "code",
   "execution_count": 38,
   "metadata": {},
   "outputs": [
    {
     "name": "stdout",
     "output_type": "stream",
     "text": [
      " "
     ]
    },
    {
     "data": {
      "text/plain": [
       "         100457 function calls (100442 primitive calls) in 5.663 seconds\n",
       "\n",
       "   Ordered by: internal time\n",
       "   List reduced from 140 to 10 due to restriction <10>\n",
       "\n",
       "   ncalls  tottime  percall  cumtime  percall filename:lineno(function)\n",
       "        1    2.090    2.090    2.523    2.523 shape_base.py:283(<listcomp>)\n",
       "        1    1.944    1.944    1.944    1.944 {built-in method numpy.core.multiarray.concatenate}\n",
       "        1    0.871    0.871    5.339    5.339 <ipython-input-32-330975e5f817>:1(list2frame_map_np)\n",
       "        1    0.324    0.324    5.663    5.663 <string>:1(<module>)\n",
       "    10003    0.322    0.000    0.322    0.000 {built-in method numpy.core.multiarray.empty}\n",
       "    10000    0.067    0.000    0.067    0.000 {built-in method numpy.core.multiarray.copyto}\n",
       "    10000    0.014    0.000    0.024    0.000 shape_base.py:11(atleast_1d)\n",
       "    10000    0.010    0.000    0.408    0.000 <ipython-input-32-330975e5f817>:3(<lambda>)\n",
       "    10000    0.008    0.000    0.397    0.000 numeric.py:268(full)\n",
       "    10003    0.004    0.000    0.004    0.000 {built-in method numpy.core.multiarray.array}"
      ]
     },
     "metadata": {},
     "output_type": "display_data"
    }
   ],
   "source": [
    "%prun -l 10 list2frame_map_np(items)"
   ]
  },
  {
   "cell_type": "code",
   "execution_count": 41,
   "metadata": {},
   "outputs": [
    {
     "name": "stdout",
     "output_type": "stream",
     "text": [
      " "
     ]
    },
    {
     "data": {
      "text/plain": [
       "         7970077 function calls (7870073 primitive calls) in 11.315 seconds\n",
       "\n",
       "   Ordered by: internal time\n",
       "   List reduced from 215 to 10 due to restriction <10>\n",
       "\n",
       "   ncalls  tottime  percall  cumtime  percall filename:lineno(function)\n",
       "    10000    1.946    0.000    2.230    0.000 internals.py:5017(_stack_arrays)\n",
       "        1    1.748    1.748    1.748    1.748 {built-in method numpy.core.multiarray.concatenate}\n",
       "        1    0.881    0.881   10.913   10.913 <ipython-input-33-94b9e5ddeb90>:1(list2frame_map_pd)\n",
       "    50002    0.810    0.000    0.810    0.000 {built-in method numpy.core.multiarray.empty}\n",
       "    10000    0.419    0.000    7.329    0.001 frame.py:426(_init_dict)\n",
       "        1    0.402    0.402   11.315   11.315 <string>:1(<module>)\n",
       "  1959965    0.348    0.000    0.542    0.000 {built-in method builtins.isinstance}\n",
       "20000/10000    0.251    0.000    1.104    0.000 base.py:255(__new__)\n",
       "    10000    0.200    0.000    3.076    0.000 internals.py:4880(form_blocks)\n",
       "   119996    0.154    0.000    0.154    0.000 {built-in method numpy.core.multiarray.array}"
      ]
     },
     "metadata": {},
     "output_type": "display_data"
    }
   ],
   "source": [
    "%prun -l 10 list2frame_map_pd(items)"
   ]
  },
  {
   "cell_type": "markdown",
   "metadata": {},
   "source": [
    "### Simple comparison for columns swap and rows access by given indices."
   ]
  },
  {
   "cell_type": "code",
   "execution_count": 103,
   "metadata": {},
   "outputs": [],
   "source": [
    "data = pd.DataFrame({'item': np.random.randint(20000, size=1000000), 'user': np.random.randint(20000, size=1000000)})"
   ]
  },
  {
   "cell_type": "code",
   "execution_count": 83,
   "metadata": {},
   "outputs": [
    {
     "name": "stdout",
     "output_type": "stream",
     "text": [
      "494 µs ± 14.9 µs per loop (mean ± std. dev. of 7 runs, 1000 loops each)\n"
     ]
    }
   ],
   "source": [
    "%timeit data.loc[:, ['user', 'item']]"
   ]
  },
  {
   "cell_type": "code",
   "execution_count": 84,
   "metadata": {},
   "outputs": [
    {
     "name": "stdout",
     "output_type": "stream",
     "text": [
      "384 µs ± 16.4 µs per loop (mean ± std. dev. of 7 runs, 1000 loops each)\n"
     ]
    }
   ],
   "source": [
    "%timeit data.reindex(columns=['user', 'item'], copy=False)"
   ]
  },
  {
   "cell_type": "code",
   "execution_count": 10,
   "metadata": {},
   "outputs": [
    {
     "data": {
      "text/html": [
       "<div>\n",
       "<style scoped>\n",
       "    .dataframe tbody tr th:only-of-type {\n",
       "        vertical-align: middle;\n",
       "    }\n",
       "\n",
       "    .dataframe tbody tr th {\n",
       "        vertical-align: top;\n",
       "    }\n",
       "\n",
       "    .dataframe thead th {\n",
       "        text-align: right;\n",
       "    }\n",
       "</style>\n",
       "<table border=\"1\" class=\"dataframe\">\n",
       "  <thead>\n",
       "    <tr style=\"text-align: right;\">\n",
       "      <th></th>\n",
       "      <th>user</th>\n",
       "      <th>item</th>\n",
       "    </tr>\n",
       "  </thead>\n",
       "  <tbody>\n",
       "    <tr>\n",
       "      <th>0</th>\n",
       "      <td>76</td>\n",
       "      <td>10</td>\n",
       "    </tr>\n",
       "    <tr>\n",
       "      <th>1</th>\n",
       "      <td>82</td>\n",
       "      <td>18</td>\n",
       "    </tr>\n",
       "    <tr>\n",
       "      <th>2</th>\n",
       "      <td>30</td>\n",
       "      <td>91</td>\n",
       "    </tr>\n",
       "    <tr>\n",
       "      <th>3</th>\n",
       "      <td>9</td>\n",
       "      <td>34</td>\n",
       "    </tr>\n",
       "    <tr>\n",
       "      <th>4</th>\n",
       "      <td>62</td>\n",
       "      <td>63</td>\n",
       "    </tr>\n",
       "  </tbody>\n",
       "</table>\n",
       "</div>"
      ],
      "text/plain": [
       "   user  item\n",
       "0    76    10\n",
       "1    82    18\n",
       "2    30    91\n",
       "3     9    34\n",
       "4    62    63"
      ]
     },
     "execution_count": 10,
     "metadata": {},
     "output_type": "execute_result"
    }
   ],
   "source": [
    "data.loc[:, ['user', 'item']].head()"
   ]
  },
  {
   "cell_type": "code",
   "execution_count": 11,
   "metadata": {},
   "outputs": [
    {
     "data": {
      "text/html": [
       "<div>\n",
       "<style scoped>\n",
       "    .dataframe tbody tr th:only-of-type {\n",
       "        vertical-align: middle;\n",
       "    }\n",
       "\n",
       "    .dataframe tbody tr th {\n",
       "        vertical-align: top;\n",
       "    }\n",
       "\n",
       "    .dataframe thead th {\n",
       "        text-align: right;\n",
       "    }\n",
       "</style>\n",
       "<table border=\"1\" class=\"dataframe\">\n",
       "  <thead>\n",
       "    <tr style=\"text-align: right;\">\n",
       "      <th></th>\n",
       "      <th>user</th>\n",
       "      <th>item</th>\n",
       "    </tr>\n",
       "  </thead>\n",
       "  <tbody>\n",
       "    <tr>\n",
       "      <th>0</th>\n",
       "      <td>76</td>\n",
       "      <td>10</td>\n",
       "    </tr>\n",
       "    <tr>\n",
       "      <th>1</th>\n",
       "      <td>82</td>\n",
       "      <td>18</td>\n",
       "    </tr>\n",
       "    <tr>\n",
       "      <th>2</th>\n",
       "      <td>30</td>\n",
       "      <td>91</td>\n",
       "    </tr>\n",
       "    <tr>\n",
       "      <th>3</th>\n",
       "      <td>9</td>\n",
       "      <td>34</td>\n",
       "    </tr>\n",
       "    <tr>\n",
       "      <th>4</th>\n",
       "      <td>62</td>\n",
       "      <td>63</td>\n",
       "    </tr>\n",
       "  </tbody>\n",
       "</table>\n",
       "</div>"
      ],
      "text/plain": [
       "   user  item\n",
       "0    76    10\n",
       "1    82    18\n",
       "2    30    91\n",
       "3     9    34\n",
       "4    62    63"
      ]
     },
     "execution_count": 11,
     "metadata": {},
     "output_type": "execute_result"
    }
   ],
   "source": [
    "data.reindex(columns=['user', 'item'], copy=False).head()"
   ]
  },
  {
   "cell_type": "code",
   "execution_count": 105,
   "metadata": {},
   "outputs": [],
   "source": [
    "data = data.sort_values(['user', 'item'])"
   ]
  },
  {
   "cell_type": "code",
   "execution_count": 106,
   "metadata": {},
   "outputs": [
    {
     "data": {
      "text/html": [
       "<div>\n",
       "<style scoped>\n",
       "    .dataframe tbody tr th:only-of-type {\n",
       "        vertical-align: middle;\n",
       "    }\n",
       "\n",
       "    .dataframe tbody tr th {\n",
       "        vertical-align: top;\n",
       "    }\n",
       "\n",
       "    .dataframe thead th {\n",
       "        text-align: right;\n",
       "    }\n",
       "</style>\n",
       "<table border=\"1\" class=\"dataframe\">\n",
       "  <thead>\n",
       "    <tr style=\"text-align: right;\">\n",
       "      <th></th>\n",
       "      <th>item</th>\n",
       "      <th>user</th>\n",
       "    </tr>\n",
       "  </thead>\n",
       "  <tbody>\n",
       "    <tr>\n",
       "      <th>811659</th>\n",
       "      <td>37</td>\n",
       "      <td>0</td>\n",
       "    </tr>\n",
       "    <tr>\n",
       "      <th>414854</th>\n",
       "      <td>248</td>\n",
       "      <td>0</td>\n",
       "    </tr>\n",
       "    <tr>\n",
       "      <th>771900</th>\n",
       "      <td>1228</td>\n",
       "      <td>0</td>\n",
       "    </tr>\n",
       "    <tr>\n",
       "      <th>491951</th>\n",
       "      <td>1424</td>\n",
       "      <td>0</td>\n",
       "    </tr>\n",
       "    <tr>\n",
       "      <th>152928</th>\n",
       "      <td>2088</td>\n",
       "      <td>0</td>\n",
       "    </tr>\n",
       "  </tbody>\n",
       "</table>\n",
       "</div>"
      ],
      "text/plain": [
       "        item  user\n",
       "811659    37     0\n",
       "414854   248     0\n",
       "771900  1228     0\n",
       "491951  1424     0\n",
       "152928  2088     0"
      ]
     },
     "execution_count": 106,
     "metadata": {},
     "output_type": "execute_result"
    }
   ],
   "source": [
    "data.head()"
   ]
  },
  {
   "cell_type": "code",
   "execution_count": 112,
   "metadata": {},
   "outputs": [],
   "source": [
    "idx = np.unique(np.random.randint(20000, size=5000))"
   ]
  },
  {
   "cell_type": "code",
   "execution_count": 114,
   "metadata": {},
   "outputs": [],
   "source": [
    "sample = data.set_index('user').loc[idx].reset_index()\n",
    "sample2 = data[data['user'].isin(idx)]\n",
    "assert np.allclose(sample.values, sample2[['user', 'item']].values)"
   ]
  },
  {
   "cell_type": "code",
   "execution_count": 116,
   "metadata": {},
   "outputs": [
    {
     "name": "stdout",
     "output_type": "stream",
     "text": [
      "108 ms ± 1.72 ms per loop (mean ± std. dev. of 7 runs, 10 loops each)\n",
      "7.16 ms ± 13.8 µs per loop (mean ± std. dev. of 7 runs, 100 loops each)\n"
     ]
    }
   ],
   "source": [
    "%timeit data.set_index('user').loc[idx].reset_index()\n",
    "%timeit data[data['user'].isin(idx)]"
   ]
  },
  {
   "cell_type": "code",
   "execution_count": 2,
   "metadata": {},
   "outputs": [
    {
     "name": "stdout",
     "output_type": "stream",
     "text": [
      " "
     ]
    },
    {
     "data": {
      "text/plain": [
       "         35481 function calls (35396 primitive calls) in 3.352 seconds\n",
       "\n",
       "   Ordered by: internal time\n",
       "   List reduced from 498 to 10 due to restriction <10>\n",
       "\n",
       "   ncalls  tottime  percall  cumtime  percall filename:lineno(function)\n",
       "        1    2.272    2.272    3.329    3.329 preference.py:470(generate_lda)\n",
       "    85/81    0.368    0.004    0.368    0.005 {built-in method numpy.core.multiarray.array}\n",
       "        4    0.242    0.061    0.242    0.061 {method 'nonzero' of 'numpy.ndarray' objects}\n",
       "        4    0.183    0.046    0.183    0.046 {built-in method builtins.abs}\n",
       "        2    0.119    0.060    0.119    0.060 {method 'dirichlet' of 'mtrand.RandomState' objects}\n",
       "        2    0.025    0.013    0.026    0.013 sorting.py:131(decons_group_index)\n",
       "        1    0.022    0.022    3.352    3.352 <string>:1(<module>)\n",
       "        1    0.022    0.022    0.022    0.022 {pandas._libs.lib.maybe_convert_objects}\n",
       "        7    0.013    0.002    0.013    0.002 {pandas._libs.lib.infer_dtype}\n",
       "        1    0.012    0.012    0.013    0.013 {pandas._libs.groupby.group_add_float64}"
      ]
     },
     "metadata": {},
     "output_type": "display_data"
    }
   ],
   "source": [
    "%prun -l 10 generate_lda(1000, 2000, 100, 50)"
   ]
  },
  {
   "cell_type": "markdown",
   "metadata": {},
   "source": [
    "### Sample unique pairs from given unique data indices.\n",
    "- Sampling first item, then second independently and remove duplicates. numpy, numba\n",
    "- sampling a fraction from all the combinations of 2 items."
   ]
  },
  {
   "cell_type": "code",
   "execution_count": 79,
   "metadata": {},
   "outputs": [],
   "source": [
    "def sample_pairs(data, frac=0.2):\n",
    "    sample_size = int(len(data) * (len(data) - 1) / 2 * frac)\n",
    "    pairs = np.random.choice(data, size=(sample_size, 2))\n",
    "    pairs.sort(axis=1)\n",
    "    sample_pairs = np.unique(pairs, axis=0)\n",
    "    return sample_pairs[sample_pairs[:, 0] != sample_pairs[:, 1]]"
   ]
  },
  {
   "cell_type": "code",
   "execution_count": 71,
   "metadata": {},
   "outputs": [],
   "source": [
    "@njit(parallel=True)\n",
    "def sample_pairs_nb(data, frac=0.2):\n",
    "    sample_size = int(len(data) * (len(data) - 1) / 2 * frac)\n",
    "    out = np.zeros((sample_size, 2), dtype=np.int64)\n",
    "    for i in nb.prange(sample_size):\n",
    "        out[i] = np.random.choice(data, replace=False)\n",
    "        out[i].sort()\n",
    "    return out"
   ]
  },
  {
   "cell_type": "code",
   "execution_count": 74,
   "metadata": {},
   "outputs": [],
   "source": [
    "def sample_unique_pairs(data, frac=0.2):\n",
    "    pairs = sample_pairs_nb(data, frac)\n",
    "    return np.unique(pairs, axis=0)"
   ]
  },
  {
   "cell_type": "code",
   "execution_count": 4,
   "metadata": {},
   "outputs": [],
   "source": [
    "from itertools import combinations"
   ]
  },
  {
   "cell_type": "code",
   "execution_count": 20,
   "metadata": {},
   "outputs": [],
   "source": [
    "def sample_combos(data, frac=0.2):\n",
    "    combs = list(combinations(data, 2))\n",
    "    sample_size = int(len(data) * (len(data) - 1) / 2 * frac)\n",
    "    np.random.shuffle(combs)\n",
    "    return combs[:sample_size]"
   ]
  },
  {
   "cell_type": "code",
   "execution_count": 53,
   "metadata": {},
   "outputs": [
    {
     "data": {
      "text/plain": [
       "array([[0, 4],\n",
       "       [2, 4]])"
      ]
     },
     "execution_count": 53,
     "metadata": {},
     "output_type": "execute_result"
    }
   ],
   "source": [
    "sample_pairs(list(range(5)))"
   ]
  },
  {
   "cell_type": "code",
   "execution_count": 80,
   "metadata": {},
   "outputs": [
    {
     "name": "stdout",
     "output_type": "stream",
     "text": [
      "39.4 s ± 242 ms per loop (mean ± std. dev. of 7 runs, 1 loop each)\n"
     ]
    }
   ],
   "source": [
    "%timeit sample_pairs(list(range(10000)), 0.8)"
   ]
  },
  {
   "cell_type": "code",
   "execution_count": 32,
   "metadata": {},
   "outputs": [
    {
     "name": "stdout",
     "output_type": "stream",
     "text": [
      "33.1 s ± 1.05 s per loop (mean ± std. dev. of 7 runs, 1 loop each)\n"
     ]
    }
   ],
   "source": [
    "%timeit sample_combos(list(range(10000)))"
   ]
  },
  {
   "cell_type": "code",
   "execution_count": 78,
   "metadata": {},
   "outputs": [
    {
     "name": "stdout",
     "output_type": "stream",
     "text": [
      "46.9 s ± 115 ms per loop (mean ± std. dev. of 7 runs, 1 loop each)\n"
     ]
    }
   ],
   "source": [
    "%timeit sample_unique_pairs(np.array(range(10000)), 0.8)"
   ]
  },
  {
   "cell_type": "markdown",
   "metadata": {},
   "source": [
    "### `sample_combos` almost has constant time for sampling different fractions and it takes less time when `fraction` is greater than 0.8."
   ]
  },
  {
   "cell_type": "markdown",
   "metadata": {},
   "source": [
    "Test the fraction of the actual number of sample item pairs to the desired number."
   ]
  },
  {
   "cell_type": "code",
   "execution_count": 55,
   "metadata": {},
   "outputs": [],
   "source": [
    "sp = sample_pairs(list(range(10000)))"
   ]
  },
  {
   "cell_type": "code",
   "execution_count": 57,
   "metadata": {},
   "outputs": [
    {
     "data": {
      "text/plain": [
       "9062597"
      ]
     },
     "execution_count": 57,
     "metadata": {},
     "output_type": "execute_result"
    }
   ],
   "source": [
    "len(sp)"
   ]
  },
  {
   "cell_type": "code",
   "execution_count": 59,
   "metadata": {},
   "outputs": [
    {
     "data": {
      "text/plain": [
       "0.9063503350335034"
      ]
     },
     "execution_count": 59,
     "metadata": {},
     "output_type": "execute_result"
    }
   ],
   "source": [
    "len(sp) / (10000 * (10000-1) / 2 * 0.2)"
   ]
  },
  {
   "cell_type": "markdown",
   "metadata": {},
   "source": [
    "### LDA model\n",
    "- numpy vs numba parallel"
   ]
  },
  {
   "cell_type": "code",
   "execution_count": 2,
   "metadata": {},
   "outputs": [],
   "source": [
    "params = [1000, 2000, 100, 200, 0.5, 0.5]"
   ]
  },
  {
   "cell_type": "code",
   "execution_count": 3,
   "metadata": {},
   "outputs": [
    {
     "name": "stdout",
     "output_type": "stream",
     "text": [
      "10.9 s ± 618 ms per loop (mean ± std. dev. of 7 runs, 1 loop each)\n"
     ]
    }
   ],
   "source": [
    "%timeit generate_lda(*params)"
   ]
  },
  {
   "cell_type": "code",
   "execution_count": 4,
   "metadata": {},
   "outputs": [
    {
     "name": "stdout",
     "output_type": "stream",
     "text": [
      "804 ms ± 31.1 ms per loop (mean ± std. dev. of 7 runs, 1 loop each)\n"
     ]
    }
   ],
   "source": [
    "%timeit generate_lda_nbp(*params)"
   ]
  },
  {
   "cell_type": "code",
   "execution_count": 29,
   "metadata": {},
   "outputs": [
    {
     "data": {
      "image/png": "[encoded data removed]",
      "text/plain": [
       "<Figure size 1152x432 with 2 Axes>"
      ]
     },
     "metadata": {
      "needs_background": "light"
     },
     "output_type": "display_data"
    },
    {
     "data": {
      "image/png": "[encoded data removed]",
      "text/plain": [
       "<Figure size 1152x432 with 2 Axes>"
      ]
     },
     "metadata": {
      "needs_background": "light"
     },
     "output_type": "display_data"
    },
    {
     "data": {
      "image/png": "[encoded data removed]",
      "text/plain": [
       "<Figure size 1152x432 with 2 Axes>"
      ]
     },
     "metadata": {
      "needs_background": "light"
     },
     "output_type": "display_data"
    },
    {
     "data": {
      "image/png": "[encoded data removed]",
      "text/plain": [
       "<Figure size 1152x432 with 2 Axes>"
      ]
     },
     "metadata": {
      "needs_background": "light"
     },
     "output_type": "display_data"
    }
   ],
   "source": [
    "plot_stats(('lda', generate_lda), ('lda_nbp', generate_lda_nbp), [1000, 2000, 100, 200, 0.5, 0.5], [1000, 2000, 100, 200, 0.5, 0.5])"
   ]
  },
  {
   "cell_type": "markdown",
   "metadata": {},
   "source": [
    "### Calibration\n",
    "- objective function for `gp_minimize`. \n",
    "- pandas vs scipy coo_matrix"
   ]
  },
  {
   "cell_type": "code",
   "execution_count": 6,
   "metadata": {},
   "outputs": [],
   "source": [
    "ds = DataStats(ml_100k)\n",
    "nusers = ds.nusers\n",
    "nitems = ds.nitems\n",
    "pref = LatentDirichletAllocation(nusers, nitems, 66, 801.8552394276803, 8.578092692834458, 0.01)\n",
    "trunc_pareto = TruncatedPareto(18.0, 0.1, 548.9611775819028)\n",
    "obs = PopularityObservation(trunc_pareto)\n",
    "calibrator = Calibrator(pref, obs, ds, 1)"
   ]
  },
  {
   "cell_type": "code",
   "execution_count": 7,
   "metadata": {},
   "outputs": [],
   "source": [
    "def objective(**params):\n",
    "    calibrator.set_params(**params)\n",
    "    return calibrator.score('ucorr', ntimes=1)"
   ]
  },
  {
   "cell_type": "code",
   "execution_count": 8,
   "metadata": {},
   "outputs": [],
   "source": [
    "params = {'pref__k': 100, 'pref__lam': 801.8552394276803, 'pref__a': 8.578092692834458, 'pref__b': 0.01,\n",
    "          'obs__dist_func__m': 18.0, 'obs__dist_func__alpha': 0.1, 'obs__dist_func__upper': 548.9611775819028}"
   ]
  },
  {
   "cell_type": "code",
   "execution_count": 9,
   "metadata": {},
   "outputs": [
    {
     "name": "stdout",
     "output_type": "stream",
     "text": [
      " "
     ]
    },
    {
     "data": {
      "text/plain": [
       "         5439887 function calls (5409159 primitive calls) in 8.391 seconds\n",
       "\n",
       "   Ordered by: internal time\n",
       "   List reduced from 1173 to 10 due to restriction <10>\n",
       "\n",
       "   ncalls  tottime  percall  cumtime  percall filename:lineno(function)\n",
       "        1    0.417    0.417    0.417    0.417 preference.py:533(_draw_lda_user_item)\n",
       "   740633    0.378    0.000    0.651    0.000 {built-in method builtins.isinstance}\n",
       "        2    0.284    0.142    0.284    0.142 {built-in method scipy.sparse._sparsetools.csr_matmat_pass2}\n",
       "        1    0.256    0.256    0.256    0.256 {built-in method scipy.sparse._sparsetools.csr_elmul_csr}\n",
       "      945    0.230    0.000    0.432    0.000 {method 'choice' of 'mtrand.RandomState' objects}\n",
       "    18076    0.221    0.000    0.221    0.000 {method 'reduce' of 'numpy.ufunc' objects}\n",
       "   187951    0.219    0.000    0.407    0.000 shape_base.py:25(atleast_1d)\n",
       "   392844    0.196    0.000    0.258    0.000 generic.py:7(_check)\n",
       "        1    0.171    0.171    0.171    0.171 {built-in method gc.collect}\n",
       "    83579    0.145    0.000    0.327    0.000 common.py:1845(_is_dtype_type)"
      ]
     },
     "metadata": {},
     "output_type": "display_data"
    }
   ],
   "source": [
    "%prun -l 10 objective(**params)"
   ]
  },
  {
   "cell_type": "code",
   "execution_count": 10,
   "metadata": {},
   "outputs": [],
   "source": [
    "ds = DataStats(ml_100k)\n",
    "nusers = ds.nusers\n",
    "nitems = ds.nitems\n",
    "pref = LatentDirichletAllocationCOO(nusers, nitems, 66, 801.8552394276803, 8.578092692834458, 0.01)\n",
    "trunc_pareto = TruncParetoProfile(18.0, 0.1, 548.9611775819028)\n",
    "obs = PopularityObservationCOO(trunc_pareto)\n",
    "calibrator = CalibratorCOO(pref, obs, ds, 1)"
   ]
  },
  {
   "cell_type": "code",
   "execution_count": 11,
   "metadata": {},
   "outputs": [],
   "source": [
    "def objective(**params):\n",
    "    calibrator.set_params(**params)\n",
    "    return calibrator.score('ucorr', ntimes=1)"
   ]
  },
  {
   "cell_type": "code",
   "execution_count": 12,
   "metadata": {},
   "outputs": [],
   "source": [
    "params = {'pref__k': 100, 'pref__lam': 801.8552394276803, 'pref__a': 8.578092692834458, 'pref__b': 0.01,\n",
    "          'obs__dist_func__m': 18.0, 'obs__dist_func__alpha': 0.1, 'obs__dist_func__upper': 548.9611775819028}"
   ]
  },
  {
   "cell_type": "code",
   "execution_count": 13,
   "metadata": {},
   "outputs": [
    {
     "name": "stdout",
     "output_type": "stream",
     "text": [
      " "
     ]
    },
    {
     "data": {
      "text/plain": [
       "         1053316 function calls (1053219 primitive calls) in 2.214 seconds\n",
       "\n",
       "   Ordered by: internal time\n",
       "   List reduced from 624 to 10 due to restriction <10>\n",
       "\n",
       "   ncalls  tottime  percall  cumtime  percall filename:lineno(function)\n",
       "        1    0.434    0.434    0.434    0.434 preference.py:533(_draw_lda_user_item)\n",
       "        1    0.267    0.267    0.267    0.267 observation.py:359(_sample_popular_foreach)\n",
       "   189857    0.222    0.000    0.414    0.000 shape_base.py:25(atleast_1d)\n",
       "        2    0.218    0.109    0.218    0.109 {built-in method scipy.sparse._sparsetools.csr_matmat_pass2}\n",
       "        1    0.217    0.217    0.217    0.217 {built-in method scipy.sparse._sparsetools.csr_elmul_csr}\n",
       "        4    0.114    0.029    0.114    0.029 {method 'sort' of 'numpy.ndarray' objects}\n",
       "        6    0.093    0.015    0.093    0.015 {built-in method numpy.concatenate}\n",
       "   190111    0.084    0.000    0.084    0.000 {built-in method numpy.array}\n",
       "        1    0.075    0.075    1.264    1.264 preference.py:803(generate)\n",
       "        2    0.069    0.035    0.070    0.035 {method 'dirichlet' of 'mtrand.RandomState' objects}"
      ]
     },
     "metadata": {},
     "output_type": "display_data"
    }
   ],
   "source": [
    "%prun -l 10 objective(**params)"
   ]
  },
  {
   "cell_type": "markdown",
   "metadata": {},
   "source": [
    "### Sampling pairs"
   ]
  },
  {
   "cell_type": "code",
   "execution_count": 7,
   "metadata": {},
   "outputs": [],
   "source": [
    "nitems = np.unique(np.random.randint(100000000, size=166687))\n",
    "n = len(nitems)"
   ]
  },
  {
   "cell_type": "code",
   "execution_count": null,
   "metadata": {},
   "outputs": [],
   "source": [
    "def _sample_pairs_n(n, frac, size_cap=int(1e6)):\n",
    "    sample_size = int(n * (n - 1) / 2 * frac)\n",
    "    sample_size = min(sample_size, size_cap)\n",
    "    pairs = np.random.randint(n, size=(sample_size, 2))\n",
    "    pairs.sort(axis=1)\n",
    "    pairs = np.unique(pairs, axis=0)\n",
    "    pairs = pairs[pairs[:, 0] != pairs[:, 1]]\n",
    "    return pairs"
   ]
  },
  {
   "cell_type": "code",
   "execution_count": null,
   "metadata": {},
   "outputs": [],
   "source": [
    "%timeit _sample_pairs(np.arange(166687), 0.2)\n",
    "%timeit np.unique(_sample_pairs_nbp(np.arange(166687), 0.2), axis=0)"
   ]
  },
  {
   "cell_type": "code",
   "execution_count": 9,
   "metadata": {},
   "outputs": [
    {
     "name": "stdout",
     "output_type": "stream",
     "text": [
      "1.38 s ± 22.2 ms per loop (mean ± std. dev. of 7 runs, 1 loop each)\n"
     ]
    }
   ],
   "source": [
    "%timeit _sample_pairs_n(n, 0.2)"
   ]
  },
  {
   "cell_type": "code",
   "execution_count": 10,
   "metadata": {},
   "outputs": [
    {
     "name": "stdout",
     "output_type": "stream",
     "text": [
      "1.41 s ± 18.9 ms per loop (mean ± std. dev. of 7 runs, 1 loop each)\n"
     ]
    }
   ],
   "source": [
    "%timeit _sample_pairs(nitems, 0.2)"
   ]
  },
  {
   "cell_type": "code",
   "execution_count": 11,
   "metadata": {},
   "outputs": [
    {
     "name": "stdout",
     "output_type": "stream",
     "text": [
      " "
     ]
    },
    {
     "data": {
      "text/plain": [
       "         38 function calls in 1.440 seconds\n",
       "\n",
       "   Ordered by: internal time\n",
       "   List reduced from 26 to 10 due to restriction <10>\n",
       "\n",
       "   ncalls  tottime  percall  cumtime  percall filename:lineno(function)\n",
       "        2    1.332    0.666    1.332    0.666 {method 'sort' of 'numpy.ndarray' objects}\n",
       "        1    0.062    0.062    0.062    0.062 {method 'randint' of 'mtrand.RandomState' objects}\n",
       "        1    0.032    0.032    1.440    1.440 calibration.py:193(_sample_pairs_n)\n",
       "        1    0.012    0.012    1.316    1.316 arraysetops.py:299(_unique1d)\n",
       "        1    0.002    0.002    0.002    0.002 {method 'flatten' of 'numpy.ndarray' objects}\n",
       "        1    0.000    0.000    1.440    1.440 <string>:1(<module>)\n",
       "        1    0.000    0.000    1.440    1.440 {built-in method builtins.exec}\n",
       "        1    0.000    0.000    1.317    1.317 arraysetops.py:151(unique)\n",
       "        2    0.000    0.000    0.000    0.000 {method 'view' of 'numpy.ndarray' objects}\n",
       "        1    0.000    0.000    0.000    0.000 arraysetops.py:287(reshape_uniq)"
      ]
     },
     "metadata": {},
     "output_type": "display_data"
    }
   ],
   "source": [
    "%prun -l 10 _sample_pairs_n(n, 0.2)"
   ]
  },
  {
   "cell_type": "code",
   "execution_count": 13,
   "metadata": {},
   "outputs": [
    {
     "name": "stdout",
     "output_type": "stream",
     "text": [
      " "
     ]
    },
    {
     "data": {
      "text/plain": [
       "         46 function calls in 1.359 seconds\n",
       "\n",
       "   Ordered by: internal time\n",
       "   List reduced from 31 to 10 due to restriction <10>\n",
       "\n",
       "   ncalls  tottime  percall  cumtime  percall filename:lineno(function)\n",
       "        2    1.254    0.627    1.254    0.627 {method 'sort' of 'numpy.ndarray' objects}\n",
       "        1    0.058    0.058    0.058    0.058 {method 'choice' of 'mtrand.RandomState' objects}\n",
       "        1    0.031    0.031    1.359    1.359 calibration.py:182(_sample_pairs)\n",
       "        1    0.012    0.012    1.244    1.244 arraysetops.py:299(_unique1d)\n",
       "        1    0.003    0.003    0.003    0.003 {method 'flatten' of 'numpy.ndarray' objects}\n",
       "        1    0.000    0.000    1.359    1.359 {built-in method builtins.exec}\n",
       "        1    0.000    0.000    1.245    1.245 arraysetops.py:151(unique)\n",
       "        1    0.000    0.000    0.000    0.000 {method 'reduce' of 'numpy.ufunc' objects}\n",
       "        2    0.000    0.000    0.000    0.000 {method 'view' of 'numpy.ndarray' objects}\n",
       "        1    0.000    0.000    0.000    0.000 fromnumeric.py:69(_wrapreduction)"
      ]
     },
     "metadata": {},
     "output_type": "display_data"
    }
   ],
   "source": [
    "%prun -l 10 _sample_pairs(nitems, 0.2)"
   ]
  },
  {
   "cell_type": "markdown",
   "metadata": {},
   "source": [
    "### Compute pairs cosine similarity"
   ]
  },
  {
   "cell_type": "code",
   "execution_count": 2,
   "metadata": {},
   "outputs": [],
   "source": [
    "data = bx_implicit()"
   ]
  },
  {
   "cell_type": "code",
   "execution_count": 3,
   "metadata": {},
   "outputs": [
    {
     "data": {
      "text/html": [
       "<div>\n",
       "<style scoped>\n",
       "    .dataframe tbody tr th:only-of-type {\n",
       "        vertical-align: middle;\n",
       "    }\n",
       "\n",
       "    .dataframe tbody tr th {\n",
       "        vertical-align: top;\n",
       "    }\n",
       "\n",
       "    .dataframe thead th {\n",
       "        text-align: right;\n",
       "    }\n",
       "</style>\n",
       "<table border=\"1\" class=\"dataframe\">\n",
       "  <thead>\n",
       "    <tr style=\"text-align: right;\">\n",
       "      <th></th>\n",
       "      <th>user</th>\n",
       "      <th>item</th>\n",
       "      <th>rating</th>\n",
       "    </tr>\n",
       "  </thead>\n",
       "  <tbody>\n",
       "    <tr>\n",
       "      <th>8</th>\n",
       "      <td>8</td>\n",
       "      <td>11834836</td>\n",
       "      <td>5.0</td>\n",
       "    </tr>\n",
       "    <tr>\n",
       "      <th>11</th>\n",
       "      <td>8</td>\n",
       "      <td>23296126</td>\n",
       "      <td>6.0</td>\n",
       "    </tr>\n",
       "    <tr>\n",
       "      <th>13</th>\n",
       "      <td>8</td>\n",
       "      <td>28160293</td>\n",
       "      <td>7.0</td>\n",
       "    </tr>\n",
       "    <tr>\n",
       "      <th>15</th>\n",
       "      <td>8</td>\n",
       "      <td>31937095</td>\n",
       "      <td>5.0</td>\n",
       "    </tr>\n",
       "    <tr>\n",
       "      <th>17</th>\n",
       "      <td>8</td>\n",
       "      <td>44862832</td>\n",
       "      <td>5.0</td>\n",
       "    </tr>\n",
       "  </tbody>\n",
       "</table>\n",
       "</div>"
      ],
      "text/plain": [
       "    user      item  rating\n",
       "8      8  11834836     5.0\n",
       "11     8  23296126     6.0\n",
       "13     8  28160293     7.0\n",
       "15     8  31937095     5.0\n",
       "17     8  44862832     5.0"
      ]
     },
     "execution_count": 3,
     "metadata": {},
     "output_type": "execute_result"
    }
   ],
   "source": [
    "data.head()"
   ]
  },
  {
   "cell_type": "code",
   "execution_count": 4,
   "metadata": {},
   "outputs": [],
   "source": [
    "user_idx = pd.Index(data['user'].unique())\n",
    "item_idx = pd.Index(data['item'].unique())\n",
    "users = user_idx.get_indexer(data['user']).astype(np.int32, copy=False)\n",
    "items = item_idx.get_indexer(data['item']).astype(np.int32, copy=False)\n",
    "ratings = data['rating'].to_numpy(dtype=np.float_)\n",
    "arr = CSR.from_coo(users,\n",
    "                   items,\n",
    "                   ratings)"
   ]
  },
  {
   "cell_type": "code",
   "execution_count": 5,
   "metadata": {},
   "outputs": [],
   "source": [
    "data_reindex = data.assign(user=users, item=items)"
   ]
  },
  {
   "cell_type": "code",
   "execution_count": 6,
   "metadata": {},
   "outputs": [],
   "source": [
    "pairs = _sample_pairs_n(len(user_idx), 0.2)"
   ]
  },
  {
   "cell_type": "code",
   "execution_count": 8,
   "metadata": {},
   "outputs": [
    {
     "name": "stdout",
     "output_type": "stream",
     "text": [
      " "
     ]
    },
    {
     "data": {
      "text/plain": [
       "         4014 function calls (3969 primitive calls) in 0.753 seconds\n",
       "\n",
       "   Ordered by: internal time\n",
       "   List reduced from 381 to 10 due to restriction <10>\n",
       "\n",
       "   ncalls  tottime  percall  cumtime  percall filename:lineno(function)\n",
       "        2    0.197    0.099    0.197    0.099 {built-in method scipy.sparse._sparsetools.csr_matmat_pass2}\n",
       "        1    0.184    0.184    0.184    0.184 {method 'sort' of 'numpy.ndarray' objects}\n",
       "        1    0.132    0.132    0.132    0.132 {built-in method scipy.sparse._sparsetools.csr_elmul_csr}\n",
       "        2    0.062    0.031    0.062    0.031 {built-in method scipy.sparse._sparsetools.csr_matmat_pass1}\n",
       "       24    0.027    0.001    0.027    0.001 {method 'reduce' of 'numpy.ufunc' objects}\n",
       "        1    0.022    0.022    0.022    0.022 {built-in method scipy.sparse._sparsetools.csr_sort_indices}\n",
       "  191/189    0.019    0.000    0.020    0.000 {built-in method numpy.array}\n",
       "        1    0.015    0.015    0.203    0.203 arraysetops.py:299(_unique1d)\n",
       "        1    0.015    0.015    0.753    0.753 calibration.py:216(compute_cosine_corr)\n",
       "        3    0.009    0.003    0.009    0.003 {method 'nonzero' of 'numpy.ndarray' objects}"
      ]
     },
     "metadata": {},
     "output_type": "display_data"
    }
   ],
   "source": [
    "%prun -l 10 compute_cosine_corr(data_reindex, pairs)"
   ]
  },
  {
   "cell_type": "code",
   "execution_count": 9,
   "metadata": {},
   "outputs": [
    {
     "name": "stdout",
     "output_type": "stream",
     "text": [
      " "
     ]
    },
    {
     "data": {
      "text/plain": [
       "         1072507 function calls (1004494 primitive calls) in 115.044 seconds\n",
       "\n",
       "   Ordered by: internal time\n",
       "   List reduced from 2245 to 10 due to restriction <10>\n",
       "\n",
       "   ncalls  tottime  percall  cumtime  percall filename:lineno(function)\n",
       "        1  113.308  113.308  113.308  113.308 calibration.py:236(pairwise_cosine)\n",
       "     2735    0.643    0.000    0.645    0.000 ffi.py:106(__call__)\n",
       "   242319    0.052    0.000    0.064    0.000 {built-in method builtins.isinstance}\n",
       "31383/6127    0.046    0.000    0.068    0.000 ir.py:197(_rec_list_vars)\n",
       "28221/12769    0.044    0.000    0.152    0.000 {method 'format' of 'str' objects}\n",
       "     5096    0.023    0.000    0.070    0.000 instructions.py:14(__init__)\n",
       "17360/6984    0.022    0.000    0.137    0.000 _utils.py:46(__str__)\n",
       "     5209    0.019    0.000    0.119    0.000 values.py:220(_to_string)\n",
       "12659/12637    0.018    0.000    0.035    0.000 _utils.py:56(get_reference)\n",
       "      474    0.016    0.000    0.022    0.000 controlflow.py:294(_find_dominators_internal)"
      ]
     },
     "metadata": {},
     "output_type": "display_data"
    }
   ],
   "source": [
    "%prun -l 10 pairwise_cosine(arr.N, pairs)"
   ]
  },
  {
   "cell_type": "code",
   "execution_count": null,
   "metadata": {},
   "outputs": [],
   "source": [
    "scores1 = compute_cosine_corr(data_reindex, pairs)\n",
    "scores2 = pairwise_cosine(arr.N, pairs)"
   ]
  },
  {
   "cell_type": "markdown",
   "metadata": {},
   "source": [
    "### Sample preference size"
   ]
  },
  {
   "cell_type": "code",
   "execution_count": 2,
   "metadata": {},
   "outputs": [],
   "source": [
    "def sample_preference_size(nusers, nitems, lam):\n",
    "    user_like_counts = np.zeros(nusers, dtype=np.int64)\n",
    "    outliers = (user_like_counts > nitems) | (user_like_counts == 0)\n",
    "    while any(outliers):\n",
    "        # compute the total number of consumed items for each user as\n",
    "        # a poisson random variable\n",
    "        ndraws = np.count_nonzero(outliers)\n",
    "        user_like_counts[outliers] = np.random.poisson(lam, ndraws)\n",
    "        outliers = (user_like_counts > nitems) | (user_like_counts == 0)\n",
    "    return user_like_counts"
   ]
  },
  {
   "cell_type": "code",
   "execution_count": 3,
   "metadata": {},
   "outputs": [],
   "source": [
    "def sample_preference_sequential(lam, size, cap):\n",
    "    out = np.empty(size, dtype=np.int64)\n",
    "    for i in range(size):\n",
    "        sample = np.random.poisson(lam)\n",
    "        while (sample > cap) | (sample == 0):\n",
    "            sample = np.random.poisson(lam)\n",
    "        out[i] = sample\n",
    "    return out"
   ]
  },
  {
   "cell_type": "code",
   "execution_count": 19,
   "metadata": {},
   "outputs": [
    {
     "name": "stdout",
     "output_type": "stream",
     "text": [
      "16.3 ms ± 219 µs per loop (mean ± std. dev. of 7 runs, 100 loops each)\n"
     ]
    }
   ],
   "source": [
    "%timeit sample_preference_size(100000, 1000000, 2000)\n",
    "%timeit _draw_poisson_nbp(2000, 100000, 1000000)\n",
    "%timeit sample_preference_sequential(2000, 100000, 1000000)"
   ]
  },
  {
   "cell_type": "markdown",
   "metadata": {},
   "source": [
    "Truncated_parato\n",
    "- numpy vs numba"
   ]
  },
  {
   "cell_type": "code",
   "execution_count": 4,
   "metadata": {},
   "outputs": [
    {
     "name": "stdout",
     "output_type": "stream",
     "text": [
      "38.3 ms ± 3.62 ms per loop (mean ± std. dev. of 7 runs, 10 loops each)\n",
      "4.78 ms ± 594 µs per loop (mean ± std. dev. of 7 runs, 1 loop each)\n"
     ]
    }
   ],
   "source": [
    "%timeit truncated_pareto(20, 0.5, size=1000000, upper=1000)\n",
    "%timeit truncated_pareto_nbp(20, 0.5, size=1000000, upper=1000)"
   ]
  },
  {
   "cell_type": "code",
   "execution_count": 6,
   "metadata": {},
   "outputs": [],
   "source": [
    "assert all(np.quantile(truncated_pareto(20, 0.5, size=1000000, upper=1000), [0.25, 0.5, 0.75]) == np.quantile(truncated_pareto_nbp(20, 0.5, size=1000000, upper=1000), [0.25, 0.5, 0.75]))"
   ]
  },
  {
   "cell_type": "markdown",
   "metadata": {},
   "source": [
    "### Sample uniform\n",
    "- pandas vs numpy"
   ]
  },
  {
   "cell_type": "code",
   "execution_count": 2,
   "metadata": {},
   "outputs": [],
   "source": [
    "data = ml_100k()"
   ]
  },
  {
   "cell_type": "code",
   "execution_count": 11,
   "metadata": {},
   "outputs": [],
   "source": [
    "dist_func = TruncatedPareto(20, 0.5, 737)"
   ]
  },
  {
   "cell_type": "code",
   "execution_count": 12,
   "metadata": {},
   "outputs": [
    {
     "name": "stdout",
     "output_type": "stream",
     "text": [
      "1min 5s ± 4.52 s per loop (mean ± std. dev. of 7 runs, 1 loop each)\n"
     ]
    }
   ],
   "source": [
    "%timeit sample_uniform_n(data, dist_func)"
   ]
  },
  {
   "cell_type": "code",
   "execution_count": 13,
   "metadata": {},
   "outputs": [
    {
     "data": {
      "text/html": [
       "<div>\n",
       "<style scoped>\n",
       "    .dataframe tbody tr th:only-of-type {\n",
       "        vertical-align: middle;\n",
       "    }\n",
       "\n",
       "    .dataframe tbody tr th {\n",
       "        vertical-align: top;\n",
       "    }\n",
       "\n",
       "    .dataframe thead th {\n",
       "        text-align: right;\n",
       "    }\n",
       "</style>\n",
       "<table border=\"1\" class=\"dataframe\">\n",
       "  <thead>\n",
       "    <tr style=\"text-align: right;\">\n",
       "      <th></th>\n",
       "      <th>user</th>\n",
       "      <th>item</th>\n",
       "      <th>rating</th>\n",
       "    </tr>\n",
       "  </thead>\n",
       "  <tbody>\n",
       "    <tr>\n",
       "      <th>8</th>\n",
       "      <td>8</td>\n",
       "      <td>11834836</td>\n",
       "      <td>5.0</td>\n",
       "    </tr>\n",
       "    <tr>\n",
       "      <th>11</th>\n",
       "      <td>8</td>\n",
       "      <td>23296126</td>\n",
       "      <td>6.0</td>\n",
       "    </tr>\n",
       "    <tr>\n",
       "      <th>13</th>\n",
       "      <td>8</td>\n",
       "      <td>28160293</td>\n",
       "      <td>7.0</td>\n",
       "    </tr>\n",
       "    <tr>\n",
       "      <th>15</th>\n",
       "      <td>8</td>\n",
       "      <td>31937095</td>\n",
       "      <td>5.0</td>\n",
       "    </tr>\n",
       "    <tr>\n",
       "      <th>17</th>\n",
       "      <td>8</td>\n",
       "      <td>44862832</td>\n",
       "      <td>5.0</td>\n",
       "    </tr>\n",
       "  </tbody>\n",
       "</table>\n",
       "</div>"
      ],
      "text/plain": [
       "    user      item  rating\n",
       "8      8  11834836     5.0\n",
       "11     8  23296126     6.0\n",
       "13     8  28160293     7.0\n",
       "15     8  31937095     5.0\n",
       "17     8  44862832     5.0"
      ]
     },
     "execution_count": 13,
     "metadata": {},
     "output_type": "execute_result"
    }
   ],
   "source": [
    "data.head()"
   ]
  },
  {
   "cell_type": "code",
   "execution_count": 3,
   "metadata": {},
   "outputs": [],
   "source": [
    "coo = coo_matrix((data['rating'].to_numpy(np.float_), (data['user'].to_numpy(np.int32), data['item'].to_numpy(np.int32))))"
   ]
  },
  {
   "cell_type": "code",
   "execution_count": 15,
   "metadata": {},
   "outputs": [],
   "source": [
    "profile_func = TruncParetoProfile(20, 0.5, 737)"
   ]
  },
  {
   "cell_type": "code",
   "execution_count": 17,
   "metadata": {},
   "outputs": [
    {
     "name": "stdout",
     "output_type": "stream",
     "text": [
      "26.1 s ± 111 ms per loop (mean ± std. dev. of 7 runs, 1 loop each)\n"
     ]
    }
   ],
   "source": [
    "%timeit sample_uniform_coo(coo, profile_func)"
   ]
  },
  {
   "cell_type": "code",
   "execution_count": 18,
   "metadata": {},
   "outputs": [
    {
     "name": "stdout",
     "output_type": "stream",
     "text": [
      "1.02 s ± 5.67 ms per loop (mean ± std. dev. of 7 runs, 1 loop each)\n"
     ]
    }
   ],
   "source": [
    "%timeit sample_uniform_coo_nbp(coo, profile_func)"
   ]
  },
  {
   "cell_type": "markdown",
   "metadata": {},
   "source": [
    "### Sample popular\n",
    "- pandas vs numpy"
   ]
  },
  {
   "cell_type": "code",
   "execution_count": 2,
   "metadata": {},
   "outputs": [],
   "source": [
    "data = ml_100k()\n",
    "dist_func = TruncatedPareto(20, 0.5, 737)\n",
    "coo = coo_matrix((data['rating'].to_numpy(np.float_), (data['user'].to_numpy(np.int32), data['item'].to_numpy(np.int32))))\n",
    "profile_func = TruncParetoProfile(20, 0.5, 737)"
   ]
  },
  {
   "cell_type": "code",
   "execution_count": 3,
   "metadata": {},
   "outputs": [
    {
     "name": "stdout",
     "output_type": "stream",
     "text": [
      "3.79 s ± 33.2 ms per loop (mean ± std. dev. of 7 runs, 1 loop each)\n"
     ]
    }
   ],
   "source": [
    "%timeit sample_popular_n(data, dist_func)"
   ]
  },
  {
   "cell_type": "code",
   "execution_count": 6,
   "metadata": {},
   "outputs": [
    {
     "name": "stdout",
     "output_type": "stream",
     "text": [
      "94.5 ms ± 8.82 ms per loop (mean ± std. dev. of 7 runs, 1 loop each)\n"
     ]
    }
   ],
   "source": [
    "%timeit sample_popular_coo_nbp(coo, profile_func)"
   ]
  },
  {
   "cell_type": "code",
   "execution_count": 36,
   "metadata": {},
   "outputs": [
    {
     "name": "stdout",
     "output_type": "stream",
     "text": [
      "0.011220168505012238\n"
     ]
    }
   ],
   "source": [
    "pref = LatentDirichletAllocationCOO(943, 1682, 10, 138.67454547771212, 0.15239958231543335, 0.01)\n",
    "truncated_pareto = TruncParetoProfile(24.424383593824064, 0.1, 404.13652510809106)\n",
    "obs = UniformObservationCOO(truncated_pareto)\n",
    "data = ml_100k()\n",
    "ds = DataStats(data)\n",
    "calibrator = CalibratorCOO(pref, obs, ds)\n",
    "score = calibrator.score('ucorr', ntimes=10)\n",
    "print(score)"
   ]
  },
  {
   "cell_type": "code",
   "execution_count": 37,
   "metadata": {},
   "outputs": [
    {
     "name": "stdout",
     "output_type": "stream",
     "text": [
      "0.011978985709400324\n"
     ]
    }
   ],
   "source": [
    "pref = LatentDirichletAllocation(943, 1682, 10, 138.67454547771212, 0.15239958231543335, 0.01)\n",
    "truncated_pareto = TruncatedPareto(24.424383593824064, 0.1, 404.13652510809106)\n",
    "obs = UniformObservation(truncated_pareto)\n",
    "data = ml_100k()\n",
    "ds = DataStats(data)\n",
    "calibrator = Calibrator(pref, obs, ds)\n",
    "score = calibrator.score('ucorr', ntimes=10)\n",
    "print(score)"
   ]
  },
  {
   "cell_type": "markdown",
   "metadata": {},
   "source": [
    "### Multinomial"
   ]
  },
  {
   "cell_type": "code",
   "execution_count": 2,
   "metadata": {},
   "outputs": [],
   "source": [
    "k = 100000\n",
    "a = 0.5\n",
    "alpha = np.full(k, a)\n",
    "pvals = np.random.dirichlet(alpha)\n",
    "n = 1000"
   ]
  },
  {
   "cell_type": "code",
   "execution_count": 3,
   "metadata": {},
   "outputs": [
    {
     "name": "stdout",
     "output_type": "stream",
     "text": [
      "13 ms ± 180 µs per loop (mean ± std. dev. of 7 runs, 100 loops each)\n"
     ]
    }
   ],
   "source": [
    "%timeit np.random.multinomial(n, pvals)"
   ]
  },
  {
   "cell_type": "code",
   "execution_count": 4,
   "metadata": {},
   "outputs": [
    {
     "name": "stdout",
     "output_type": "stream",
     "text": [
      "8.37 ms ± 17.2 µs per loop (mean ± std. dev. of 7 runs, 1 loop each)\n"
     ]
    }
   ],
   "source": [
    "%timeit multinomial(n, pvals)"
   ]
  },
  {
   "cell_type": "code",
   "execution_count": 5,
   "metadata": {},
   "outputs": [],
   "source": [
    "pvals = np.random.dirichlet(alpha, n)\n",
    "nt = np.random.randint(1, 100, size=n)"
   ]
  },
  {
   "cell_type": "code",
   "execution_count": 6,
   "metadata": {},
   "outputs": [
    {
     "data": {
      "text/plain": [
       "(1000,)"
      ]
     },
     "execution_count": 6,
     "metadata": {},
     "output_type": "execute_result"
    }
   ],
   "source": [
    "nt.shape"
   ]
  },
  {
   "cell_type": "code",
   "execution_count": 10,
   "metadata": {},
   "outputs": [],
   "source": [
    "@njit(parallel=True)\n",
    "def _draw_multinomial_nbp_tol(n, pvals, tol=1e6):\n",
    "    nsamples = len(n)\n",
    "    npvals = pvals.shape[1]\n",
    "    samples = np.empty((nsamples, npvals), dtype=np.int32)\n",
    "    # trunc decimals\n",
    "    p = np.trunc(pvals * tol) / tol\n",
    "    for i in nb.prange(nsamples):\n",
    "        samples[i] = np.random.multinomial(n[i], p[i])\n",
    "    return samples"
   ]
  },
  {
   "cell_type": "code",
   "execution_count": 8,
   "metadata": {},
   "outputs": [
    {
     "name": "stdout",
     "output_type": "stream",
     "text": [
      "427 ms ± 23.5 ms per loop (mean ± std. dev. of 7 runs, 1 loop each)\n"
     ]
    }
   ],
   "source": [
    "%timeit _draw_multinomial_nbp(nt, pvals)"
   ]
  },
  {
   "cell_type": "code",
   "execution_count": 11,
   "metadata": {},
   "outputs": [
    {
     "name": "stdout",
     "output_type": "stream",
     "text": [
      "517 ms ± 19.2 ms per loop (mean ± std. dev. of 7 runs, 1 loop each)\n"
     ]
    }
   ],
   "source": [
    "%timeit _draw_multinomial_nbp_tol(nt, pvals)"
   ]
  },
  {
   "cell_type": "code",
   "execution_count": null,
   "metadata": {},
   "outputs": [],
   "source": []
  }
 ],
 "metadata": {
  "kernelspec": {
   "display_name": "Python 3",
   "language": "python",
   "name": "python3"
  },
  "language_info": {
   "codemirror_mode": {
    "name": "ipython",
    "version": 3
   },
   "file_extension": ".py",
   "mimetype": "text/x-python",
   "name": "python",
   "nbconvert_exporter": "python",
   "pygments_lexer": "ipython3",
   "version": "3.7.2"
  }
 },
 "nbformat": 4,
 "nbformat_minor": 2
}
