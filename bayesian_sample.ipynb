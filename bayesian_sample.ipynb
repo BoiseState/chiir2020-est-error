{
 "cells": [
  {
   "cell_type": "code",
   "execution_count": 1,
   "metadata": {},
   "outputs": [],
   "source": [
    "import numpy as np\n",
    "import pystan\n",
    "import pandas as pd\n",
    "import matplotlib.pyplot as plt\n",
    "import seaborn as sns\n",
    "\n",
    "from simulation_utils.utils import compute_user_activity\n",
    "from simulation_utils.utils import beta_binomial\n",
    "\n",
    "%matplotlib inline"
   ]
  },
  {
   "cell_type": "code",
   "execution_count": 2,
   "metadata": {},
   "outputs": [],
   "source": [
    "data = pd.read_csv('data/ml-100k/u.data', names=['user', 'item', 'rating', 'timestamp'], sep='\\t')"
   ]
  },
  {
   "cell_type": "code",
   "execution_count": 3,
   "metadata": {},
   "outputs": [],
   "source": [
    "nprofile = data.groupby('user')['item'].count().values"
   ]
  },
  {
   "cell_type": "code",
   "execution_count": 4,
   "metadata": {},
   "outputs": [],
   "source": [
    "nusers = len(nprofile)"
   ]
  },
  {
   "cell_type": "code",
   "execution_count": 31,
   "metadata": {},
   "outputs": [
    {
     "name": "stderr",
     "output_type": "stream",
     "text": [
      "INFO:pystan:COMPILING THE C++ CODE FOR MODEL anon_model_8f12edbeb268d4ab88610b9aba24443e NOW.\n"
     ]
    }
   ],
   "source": [
    "# pareto_sampling = \"\"\"\n",
    "# data {\n",
    "#     int<lower=1> N;\n",
    "#     vector<lower=20>[N] y;\n",
    "# }\n",
    "# parameters {\n",
    "#     real<lower=20> m;\n",
    "#     real<lower=0> alpha;\n",
    "#     vector<lower=-0.5, upper=0.5>[N] y_err;\n",
    "    \n",
    "# }\n",
    "# transformed parameters {\n",
    "#     vector[N] z;\n",
    "#     z = y + y_err;\n",
    "# }\n",
    "# model {\n",
    "#     target += -0.001*m -0.001*alpha + log(0.002);\n",
    "#     z ~ pareto(m, alpha);\n",
    "# }\n",
    "# \"\"\"\n",
    "# sm = pystan.StanModel(model_code=pareto_sampling)"
   ]
  },
  {
   "cell_type": "code",
   "execution_count": 5,
   "metadata": {},
   "outputs": [],
   "source": [
    "pareto_code = \"\"\"\n",
    "data {\n",
    "    int<lower=1> N;\n",
    "    int<lower=20> y[N];\n",
    "}\n",
    "transformed data {\n",
    "    int<lower=1> y_max;\n",
    "    y_max = max(y);\n",
    "}\n",
    "parameters {\n",
    "    real<lower=20> m;\n",
    "    real<lower=0> alpha;\n",
    "}\n",
    "model {\n",
    "    m ~ normal(20, 10);\n",
    "    alpha ~ exponential(0.1);\n",
    "    for (n in 1:N) {\n",
    "        target += log(pareto_cdf((y[n] + 0.5), m, alpha) - pareto_cdf((y[n] - 0.5), m, alpha));\n",
    "        if (y[n] > y_max)\n",
    "            target += negative_infinity();\n",
    "        else\n",
    "            target += -pareto_lcdf(y_max | m, alpha);\n",
    "    }\n",
    "}\n",
    "\"\"\""
   ]
  },
  {
   "cell_type": "code",
   "execution_count": 6,
   "metadata": {},
   "outputs": [],
   "source": [
    "beta_binomial_code = \"\"\"\n",
    "data {\n",
    "    int<lower=1> N;\n",
    "    int<lower=20> y[N];\n",
    "}\n",
    "transformed data {\n",
    "    int<lower=1> y_max;\n",
    "    y_max = max(y);\n",
    "}\n",
    "parameters {\n",
    "    real<lower=0> a;\n",
    "    real<lower=0> b;\n",
    "}\n",
    "model {\n",
    "    a ~ exponential(0.1);\n",
    "    b ~ exponential(0.1);\n",
    "    for (n in 1:N)\n",
    "        y[n] ~ beta_binomial(y_max, a, b) T[20, ];\n",
    "}\n",
    "generated quantities {\n",
    "    int y_pred[N];\n",
    "    for (n in 1:N){\n",
    "        y_pred[n] = beta_binomial_rng(y_max, a, b);\n",
    "        while (y_pred[n] < 20)\n",
    "            y_pred[n] = beta_binomial_rng(y_max, a, b);\n",
    "    }      \n",
    "}\n",
    "\"\"\""
   ]
  },
  {
   "cell_type": "code",
   "execution_count": 7,
   "metadata": {},
   "outputs": [],
   "source": [
    "truncated_poisson_code = \"\"\"\n",
    "data {\n",
    "    int<lower=1> N;\n",
    "    int<lower=20> y[N];\n",
    "}\n",
    "parameters {\n",
    "    real<lower=0> lambda;\n",
    "}\n",
    "model {\n",
    "    y ~ poisson(lambda);\n",
    "    for (n in 1:N)\n",
    "        if (y[n] < 20)\n",
    "            target += negative_infinity();\n",
    "        else\n",
    "            target += -log_sum_exp(poisson_lpmf(20 | lambda),\n",
    "                                   poisson_lccdf(20 | lambda));\n",
    "}\n",
    "\"\"\""
   ]
  },
  {
   "cell_type": "code",
   "execution_count": 8,
   "metadata": {},
   "outputs": [],
   "source": [
    "def compile_stan_model(model_code, model_name, model_dir='build', **kwargs):\n",
    "    import os\n",
    "    import pickle\n",
    "    fn = '.'.join([model_name, 'pkl'])\n",
    "    fdir = os.path.join(model_dir, fn)\n",
    "    try:\n",
    "        with open(fdir, 'rb') as f:\n",
    "            sm = pickle.load(f)\n",
    "    except:\n",
    "        sm = pystan.StanModel(model_code=model_code, model_name=model_name, **kwargs)\n",
    "        with open(fdir, 'wb') as f:\n",
    "            pickle.dump(sm, f)\n",
    "    else:\n",
    "        print('Load compiled model')\n",
    "    return sm"
   ]
  },
  {
   "cell_type": "code",
   "execution_count": 9,
   "metadata": {},
   "outputs": [
    {
     "name": "stdout",
     "output_type": "stream",
     "text": [
      "Load compiled model\n"
     ]
    }
   ],
   "source": [
    "sm = compile_stan_model(pareto_code, 'pareto')"
   ]
  },
  {
   "cell_type": "code",
   "execution_count": 10,
   "metadata": {},
   "outputs": [],
   "source": [
    "model_data = {'N': nusers,\n",
    "              'y': nprofile}"
   ]
  },
  {
   "cell_type": "code",
   "execution_count": 11,
   "metadata": {},
   "outputs": [],
   "source": [
    "op = sm.optimizing(data=model_data)"
   ]
  },
  {
   "cell_type": "code",
   "execution_count": 12,
   "metadata": {},
   "outputs": [
    {
     "data": {
      "text/plain": [
       "OrderedDict([('m', array(20.00000045)), ('alpha', array(0.510528))])"
      ]
     },
     "execution_count": 12,
     "metadata": {},
     "output_type": "execute_result"
    }
   ],
   "source": [
    "op"
   ]
  },
  {
   "cell_type": "code",
   "execution_count": 13,
   "metadata": {},
   "outputs": [],
   "source": [
    "def truncated_beta_binomial(a, b, n, size=None, lower=20):\n",
    "    out = beta_binomial(a, b, n, size)\n",
    "    outliers = out < lower\n",
    "    while any(outliers):\n",
    "        ndraws = np.count_nonzero(outliers)\n",
    "        out[outliers] = beta_binomial(a, b, n, ndraws)\n",
    "        outliers = out < lower\n",
    "    return out"
   ]
  },
  {
   "cell_type": "code",
   "execution_count": 14,
   "metadata": {},
   "outputs": [],
   "source": [
    "def truncated_pareto(m, alpha, size=None, upper=737):\n",
    "    from scipy.stats import pareto\n",
    "    p = pareto.cdf(upper, alpha, scale=m)\n",
    "    u = np.random.uniform(0, p, size)\n",
    "    y = m / ((1 - u) ** (1 / alpha))\n",
    "    return y"
   ]
  },
  {
   "cell_type": "code",
   "execution_count": 15,
   "metadata": {},
   "outputs": [],
   "source": [
    "generated_pareto = truncated_pareto(op['m'], op['alpha'], size=nusers).astype(np.int64)"
   ]
  },
  {
   "cell_type": "code",
   "execution_count": 16,
   "metadata": {},
   "outputs": [
    {
     "name": "stdout",
     "output_type": "stream",
     "text": [
      "Load compiled model\n"
     ]
    }
   ],
   "source": [
    "sm = compile_stan_model(beta_binomial_code, 'beta_binomial')"
   ]
  },
  {
   "cell_type": "code",
   "execution_count": 17,
   "metadata": {},
   "outputs": [],
   "source": [
    "op = sm.optimizing(data=model_data)"
   ]
  },
  {
   "cell_type": "code",
   "execution_count": 18,
   "metadata": {},
   "outputs": [
    {
     "name": "stdout",
     "output_type": "stream",
     "text": [
      "1.6638872003071793e-05 2.8157887296158077\n"
     ]
    }
   ],
   "source": [
    "print(op['a'], op['b'])"
   ]
  },
  {
   "cell_type": "code",
   "execution_count": 19,
   "metadata": {},
   "outputs": [],
   "source": [
    "generated_bb = truncated_beta_binomial(op['a'], op['b'], np.max(nprofile), nusers)"
   ]
  },
  {
   "cell_type": "code",
   "execution_count": 20,
   "metadata": {},
   "outputs": [],
   "source": [
    "data = pd.DataFrame({'ml_100k': nprofile, 'beta_binomial': generated_bb, 'pareto': generated_pareto}).melt(var_name='dataset', value_name='size')"
   ]
  },
  {
   "cell_type": "code",
   "execution_count": 23,
   "metadata": {},
   "outputs": [
    {
     "name": "stderr",
     "output_type": "stream",
     "text": [
      "/home/MucunTian/anaconda3/envs/eval-err/lib/python3.7/site-packages/seaborn/axisgrid.py:230: UserWarning: The `size` paramter has been renamed to `height`; please update your code.\n",
      "  warnings.warn(msg, UserWarning)\n"
     ]
    },
    {
     "data": {
      "image/png": "[encoded data removed]",
      "text/plain": [
       "<Figure size 538.375x432 with 1 Axes>"
      ]
     },
     "metadata": {
      "needs_background": "light"
     },
     "output_type": "display_data"
    }
   ],
   "source": [
    "g = sns.FacetGrid(data, hue='dataset', size=6)\n",
    "g = (g.map(sns.distplot, 'size', kde=False)\n",
    "     .add_legend()\n",
    "     .set_axis_labels('user profile size', 'number of users'))"
   ]
  },
  {
   "cell_type": "code",
   "execution_count": null,
   "metadata": {},
   "outputs": [],
   "source": []
  }
 ],
 "metadata": {
  "kernelspec": {
   "display_name": "Python 3",
   "language": "python",
   "name": "python3"
  },
  "language_info": {
   "codemirror_mode": {
    "name": "ipython",
    "version": 3
   },
   "file_extension": ".py",
   "mimetype": "text/x-python",
   "name": "python",
   "nbconvert_exporter": "python",
   "pygments_lexer": "ipython3",
   "version": "3.7.1"
  }
 },
 "nbformat": 4,
 "nbformat_minor": 2
}
