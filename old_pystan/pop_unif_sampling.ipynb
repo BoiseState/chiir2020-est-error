{
 "cells": [
  {
   "cell_type": "code",
   "execution_count": 1,
   "metadata": {},
   "outputs": [],
   "source": [
    "import pystan\n",
    "import lenskit"
   ]
  },
  {
   "cell_type": "code",
   "execution_count": 28,
   "metadata": {
    "collapsed": true
   },
   "outputs": [],
   "source": [
    "pop_unif_model_code = \"\"\"\n",
    "data {\n",
    "    int<lower=1> U; // number of users\n",
    "    int<lower=1> I; // number of items\n",
    "    int<lower=1> L; // length of the recommendation list\n",
    "    int<lower=0,upper=1> X[U, I];\n",
    "    int<lower=0> REC_LIST[U, L];\n",
    "}\n",
    "parameters {\n",
    "    real<lower=0> mu[I];\n",
    "    real<lower=0> sigma;\n",
    "    real logit_pi[U, I];\n",
    "    \n",
    "}\n",
    "transformed parameters {\n",
    "    real<lower=0, upper=1> pi[U, I];\n",
    "    pi = inv_logit(logit_pi);\n",
    "\n",
    "}\n",
    "model {\n",
    "    mu ~ exponential(0.001);\n",
    "    sigma ~ exponential(0.001);\n",
    "    \n",
    "    for (u in 1:U) {\n",
    "        logit_pi[u] ~ normal(mu, sigma);\n",
    "    }\n",
    "    \n",
    "    for (u in 1:U) {\n",
    "        X[u] ~ bernoulli(pi[u]);\n",
    "    }\n",
    "    \n",
    "}\n",
    "generated quantities {\n",
    "    real recall[U];\n",
    "\n",
    "    for (u in 1:U) {\n",
    "        real pi_l[L];\n",
    "        real n_pi;\n",
    "        real k_pi;\n",
    "        \n",
    "        n_pi = sum(round(pi[u]));\n",
    "        \n",
    "        for (i in 1:L) {\n",
    "            int item_id = REC_LIST[u,i] + 1;\n",
    "            pi_l[i] = pi[u, item_id];\n",
    "        }\n",
    "        k_pi = sum(round(pi_l));\n",
    "        \n",
    "        recall[u] = n_pi / k_pi;\n",
    "    }          \n",
    "}\n",
    "\"\"\""
   ]
  },
  {
   "cell_type": "code",
   "execution_count": 2,
   "metadata": {},
   "outputs": [],
   "source": [
    "import pandas as pd"
   ]
  },
  {
   "cell_type": "code",
   "execution_count": 3,
   "metadata": {},
   "outputs": [],
   "source": [
    "ratings = pd.read_csv('./data/ml-100k/u.data', sep='\\t', names=['user', 'item', 'rating', 'timestamp']).drop('timestamp', axis=1)"
   ]
  },
  {
   "cell_type": "code",
   "execution_count": 4,
   "metadata": {},
   "outputs": [],
   "source": [
    "ratings['rel'] = 1"
   ]
  },
  {
   "cell_type": "code",
   "execution_count": 5,
   "metadata": {},
   "outputs": [],
   "source": [
    "train = pd.read_csv('./build/train.csv')\n",
    "test = pd.read_csv('./build/test.csv')\n",
    "recommendations = pd.read_csv('./build/recommendations_item-item.csv')"
   ]
  },
  {
   "cell_type": "markdown",
   "metadata": {},
   "source": [
    "Index all the items and the sample users in the recommendation lists."
   ]
  },
  {
   "cell_type": "code",
   "execution_count": 6,
   "metadata": {},
   "outputs": [],
   "source": [
    "item_index = pd.Index(ratings.item.unique())\n",
    "user_index = pd.Index(recommendations.user.unique())"
   ]
  },
  {
   "cell_type": "code",
   "execution_count": 7,
   "metadata": {},
   "outputs": [],
   "source": [
    "from scipy.sparse import csr_matrix"
   ]
  },
  {
   "cell_type": "code",
   "execution_count": 8,
   "metadata": {},
   "outputs": [],
   "source": [
    "sample_ratings = ratings[ratings['user'].isin(recommendations['user'].unique())]"
   ]
  },
  {
   "cell_type": "code",
   "execution_count": 9,
   "metadata": {},
   "outputs": [],
   "source": [
    "rows = user_index.get_indexer(sample_ratings['user'])\n",
    "cols = item_index.get_indexer(sample_ratings['item'])\n",
    "data = sample_ratings['rel'].values"
   ]
  },
  {
   "cell_type": "code",
   "execution_count": 10,
   "metadata": {},
   "outputs": [
    {
     "name": "stdout",
     "output_type": "stream",
     "text": [
      "100 1682\n"
     ]
    }
   ],
   "source": [
    "nusers = len(user_index)\n",
    "nitems = len(item_index)\n",
    "print(nusers, nitems)"
   ]
  },
  {
   "cell_type": "code",
   "execution_count": 11,
   "metadata": {},
   "outputs": [],
   "source": [
    "csr_ratings = csr_matrix((data, (rows, cols)), shape=(nusers, nitems))"
   ]
  },
  {
   "cell_type": "markdown",
   "metadata": {},
   "source": [
    "Convert sparse user-item pair to dense matrix in order to sample"
   ]
  },
  {
   "cell_type": "code",
   "execution_count": 12,
   "metadata": {},
   "outputs": [],
   "source": [
    "dense_ratings = csr_ratings.toarray()"
   ]
  },
  {
   "cell_type": "code",
   "execution_count": 13,
   "metadata": {},
   "outputs": [
    {
     "name": "stdout",
     "output_type": "stream",
     "text": [
      "(100, 1682)\n"
     ]
    }
   ],
   "source": [
    "print(dense_ratings.shape)"
   ]
  },
  {
   "cell_type": "code",
   "execution_count": 14,
   "metadata": {},
   "outputs": [],
   "source": [
    "X = dense_ratings"
   ]
  },
  {
   "cell_type": "code",
   "execution_count": 15,
   "metadata": {},
   "outputs": [
    {
     "name": "stdout",
     "output_type": "stream",
     "text": [
      "100 1682\n"
     ]
    }
   ],
   "source": [
    "print(len(X), len(X[0]))"
   ]
  },
  {
   "cell_type": "code",
   "execution_count": 16,
   "metadata": {},
   "outputs": [],
   "source": [
    "recommendations['item_ind'] = item_index.get_indexer(recommendations['item'])"
   ]
  },
  {
   "cell_type": "code",
   "execution_count": 17,
   "metadata": {},
   "outputs": [],
   "source": [
    "recommendations['user_ind'] = user_index.get_indexer(recommendations['user'])"
   ]
  },
  {
   "cell_type": "code",
   "execution_count": 18,
   "metadata": {},
   "outputs": [],
   "source": [
    "REC_LIST = recommendations[['user_ind', 'item_ind', 'rank']].pivot_table(index='user_ind', columns='rank', values='item_ind').values\n",
    "L = len(REC_LIST[0])"
   ]
  },
  {
   "cell_type": "code",
   "execution_count": 29,
   "metadata": {},
   "outputs": [
    {
     "name": "stderr",
     "output_type": "stream",
     "text": [
      "INFO:pystan:COMPILING THE C++ CODE FOR MODEL anon_model_76c24580e84eba3b74d54b888ec39fcb NOW.\n",
      "/home/MucunTian/anaconda3/envs/eval-error/lib/python3.7/site-packages/Cython/Compiler/Main.py:367: FutureWarning: Cython directive 'language_level' not set, using 2 for now (Py2). This will change in a later release! File: /tmp/tmp78ssz0qn/stanfit4anon_model_76c24580e84eba3b74d54b888ec39fcb_570564416117045396.pyx\n",
      "  tree = Parsing.p_module(s, pxd, full_module_name)\n"
     ]
    }
   ],
   "source": [
    "model_data = {'U': nusers,\n",
    "              'I': nitems,\n",
    "              'L': L,\n",
    "              'REC_LIST':REC_LIST,\n",
    "              'X': X}\n",
    "\n",
    "sm = pystan.StanModel(model_code=pop_unif_model_code)"
   ]
  },
  {
   "cell_type": "code",
   "execution_count": 19,
   "metadata": {},
   "outputs": [],
   "source": [
    "import pickle as pkl"
   ]
  },
  {
   "cell_type": "code",
   "execution_count": 23,
   "metadata": {
    "collapsed": true
   },
   "outputs": [],
   "source": [
    "with open('build/pop_pref_unif_obs_model.pkl', 'wb') as f:\n",
    "    pkl.dump(sm, f)"
   ]
  },
  {
   "cell_type": "code",
   "execution_count": 48,
   "metadata": {
    "collapsed": true
   },
   "outputs": [],
   "source": [
    "sm = None\n",
    "with open('build/pop_pref_unif_obs_model.pkl', 'rb') as f:\n",
    "    sm = pkl.load(f)"
   ]
  },
  {
   "cell_type": "code",
   "execution_count": null,
   "metadata": {
    "scrolled": false
   },
   "outputs": [
    {
     "name": "stderr",
     "output_type": "stream",
     "text": [
      "/home/MucunTian/anaconda3/envs/eval-error/lib/python3.7/site-packages/numpy/core/_methods.py:117: RuntimeWarning: invalid value encountered in subtract\n",
      "  x = asanyarray(arr - arrmean)\n",
      "WARNING:pystan:n_eff / iter for parameter pi[3,149] is nan!\n",
      "WARNING:pystan:n_eff / iter for parameter recall[1] is nan!\n",
      "WARNING:pystan:n_eff / iter for parameter recall[2] is nan!\n",
      "WARNING:pystan:n_eff / iter for parameter recall[4] is nan!\n",
      "WARNING:pystan:n_eff / iter for parameter recall[6] is nan!\n",
      "WARNING:pystan:n_eff / iter for parameter recall[8] is nan!\n",
      "WARNING:pystan:n_eff / iter for parameter recall[9] is nan!\n",
      "WARNING:pystan:n_eff / iter for parameter recall[10] is nan!\n",
      "WARNING:pystan:n_eff / iter for parameter recall[11] is nan!\n",
      "WARNING:pystan:n_eff / iter for parameter recall[12] is nan!\n",
      "WARNING:pystan:n_eff / iter for parameter recall[14] is nan!\n",
      "WARNING:pystan:n_eff / iter for parameter recall[15] is nan!\n",
      "WARNING:pystan:n_eff / iter for parameter recall[17] is nan!\n",
      "WARNING:pystan:n_eff / iter for parameter recall[18] is nan!\n",
      "WARNING:pystan:n_eff / iter below 0.001 indicates that the effective sample size has likely been overestimated\n"
     ]
    }
   ],
   "source": [
    "fit = sm.sampling(data=model_data, iter=1000, chains=4, n_jobs=14)\n",
    "# fit = sm.sampling(data=model_data, iter=2000, chains=4, n_jobs=14, control={'max_treedepth': 15})"
   ]
  },
  {
   "cell_type": "code",
   "execution_count": null,
   "metadata": {
    "collapsed": true
   },
   "outputs": [],
   "source": [
    "la = fit.extract(permuted=True)"
   ]
  },
  {
   "cell_type": "code",
   "execution_count": null,
   "metadata": {},
   "outputs": [],
   "source": [
    "with open('build/pop_unif_model_sampling.pkl', 'wb') as f:\n",
    "    pkl.dump(la, f)"
   ]
  },
  {
   "cell_type": "code",
   "execution_count": 24,
   "metadata": {},
   "outputs": [
    {
     "ename": "EOFError",
     "evalue": "Ran out of input",
     "output_type": "error",
     "traceback": [
      "\u001b[0;31m---------------------------------------------------------------------------\u001b[0m",
      "\u001b[0;31mEOFError\u001b[0m                                  Traceback (most recent call last)",
      "\u001b[0;32m<ipython-input-24-2af7efac8e1b>\u001b[0m in \u001b[0;36m<module>\u001b[0;34m\u001b[0m\n\u001b[1;32m      1\u001b[0m \u001b[0mla_loaded\u001b[0m \u001b[0;34m=\u001b[0m \u001b[0;32mNone\u001b[0m\u001b[0;34m\u001b[0m\u001b[0m\n\u001b[1;32m      2\u001b[0m \u001b[0;32mwith\u001b[0m \u001b[0mopen\u001b[0m\u001b[0;34m(\u001b[0m\u001b[0;34m'build/pop_unif_model_sampling_1.pkl.pkl'\u001b[0m\u001b[0;34m,\u001b[0m \u001b[0;34m'rb'\u001b[0m\u001b[0;34m)\u001b[0m \u001b[0;32mas\u001b[0m \u001b[0mf\u001b[0m\u001b[0;34m:\u001b[0m\u001b[0;34m\u001b[0m\u001b[0m\n\u001b[0;32m----> 3\u001b[0;31m     \u001b[0mla_loaded\u001b[0m \u001b[0;34m=\u001b[0m \u001b[0mpkl\u001b[0m\u001b[0;34m.\u001b[0m\u001b[0mload\u001b[0m\u001b[0;34m(\u001b[0m\u001b[0mf\u001b[0m\u001b[0;34m)\u001b[0m\u001b[0;34m\u001b[0m\u001b[0m\n\u001b[0m",
      "\u001b[0;31mEOFError\u001b[0m: Ran out of input"
     ]
    }
   ],
   "source": [
    "la_loaded = None\n",
    "with open('build/pop_unif_model_sampling_1.pkl.pkl', 'rb') as f:\n",
    "    la_loaded = pkl.load(f)"
   ]
  },
  {
   "cell_type": "code",
   "execution_count": 22,
   "metadata": {},
   "outputs": [],
   "source": [
    "import numpy as np"
   ]
  },
  {
   "cell_type": "code",
   "execution_count": 23,
   "metadata": {},
   "outputs": [
    {
     "data": {
      "text/plain": [
       "(2000, 20, 1682)"
      ]
     },
     "execution_count": 23,
     "metadata": {},
     "output_type": "execute_result"
    }
   ],
   "source": [
    "la_loaded['pi'].shape"
   ]
  },
  {
   "cell_type": "markdown",
   "metadata": {},
   "source": [
    "### Compute metrics "
   ]
  },
  {
   "cell_type": "code",
   "execution_count": 22,
   "metadata": {},
   "outputs": [],
   "source": [
    "def compute_recall(ratings, recommendations, user_col='user_ind', item_col='item_ind', rating='rating', threshold=0.5):\n",
    "    rec_user_ratings = recommendations.merge(ratings, how='left', on=[user_col, item_col])\n",
    "    rec_user_ratings['rel'] = rec_user_ratings[rating] > threshold\n",
    "    rec_user_rel = rec_user_ratings[[user_col, 'rel']]\n",
    "    rec_user_tp = rec_user_rel.groupby(user_col, as_index=False).sum()\n",
    "    user_total_pos = ratings.merge(recommendations[user_col].drop_duplicates().reset_index(drop=True).to_frame(), on=user_col)\n",
    "    user_total_pos['rel'] = user_total_pos[rating] > threshold\n",
    "    user_total_pos = user_total_pos[[user_col, 'rel']].groupby(user_col, as_index=False).sum()\n",
    "    user_recall = rec_user_tp.merge(user_total_pos, on=user_col, suffixes=('_tp', '_total_pos'))\n",
    "    user_recall['recall'] = user_recall['rel' + '_tp'] / user_recall['rel' + '_total_pos']\n",
    "    return user_recall['recall'].mean()"
   ]
  },
  {
   "cell_type": "markdown",
   "metadata": {},
   "source": [
    "Metric on Observations"
   ]
  },
  {
   "cell_type": "code",
   "execution_count": 23,
   "metadata": {},
   "outputs": [],
   "source": [
    "obs_mean_recall = compute_recall(ratings, recommendations, user_col='user', item_col='item', rating='rating')"
   ]
  },
  {
   "cell_type": "code",
   "execution_count": 24,
   "metadata": {},
   "outputs": [
    {
     "name": "stdout",
     "output_type": "stream",
     "text": [
      "0.010461499121722341\n"
     ]
    }
   ],
   "source": [
    "print(obs_mean_recall)"
   ]
  },
  {
   "cell_type": "markdown",
   "metadata": {},
   "source": [
    "Metric on Inferences"
   ]
  },
  {
   "cell_type": "code",
   "execution_count": 25,
   "metadata": {},
   "outputs": [
    {
     "data": {
      "text/plain": [
       "(2000, 20, 1682)"
      ]
     },
     "execution_count": 25,
     "metadata": {},
     "output_type": "execute_result"
    }
   ],
   "source": [
    "la_loaded['pi'].shape"
   ]
  },
  {
   "cell_type": "code",
   "execution_count": 26,
   "metadata": {},
   "outputs": [],
   "source": [
    "rec_user_ind, rec_item_ind = recommendations[['user_ind', 'item_ind']].sort_values(['user_ind', 'item_ind']).values.T"
   ]
  },
  {
   "cell_type": "code",
   "execution_count": 27,
   "metadata": {},
   "outputs": [],
   "source": [
    "rec_pi = la_loaded['pi'][:, rec_user_ind, rec_item_ind].reshape((2000, 20, 100))"
   ]
  },
  {
   "cell_type": "code",
   "execution_count": 59,
   "metadata": {},
   "outputs": [],
   "source": [
    "threshold = 0.4"
   ]
  },
  {
   "cell_type": "code",
   "execution_count": 60,
   "metadata": {},
   "outputs": [],
   "source": [
    "rec_rel = rec_pi > threshold"
   ]
  },
  {
   "cell_type": "code",
   "execution_count": 61,
   "metadata": {},
   "outputs": [
    {
     "data": {
      "text/plain": [
       "(2000, 20, 100)"
      ]
     },
     "execution_count": 61,
     "metadata": {},
     "output_type": "execute_result"
    }
   ],
   "source": [
    "rec_rel.shape"
   ]
  },
  {
   "cell_type": "code",
   "execution_count": 62,
   "metadata": {},
   "outputs": [],
   "source": [
    "rec_user_tp = np.sum(rec_rel, axis=2)"
   ]
  },
  {
   "cell_type": "code",
   "execution_count": 63,
   "metadata": {},
   "outputs": [],
   "source": [
    "user_total_pos = np.sum(la_loaded['pi'] > threshold, axis=2)"
   ]
  },
  {
   "cell_type": "code",
   "execution_count": 64,
   "metadata": {},
   "outputs": [],
   "source": [
    "user_recall = rec_user_tp / user_total_pos"
   ]
  },
  {
   "cell_type": "code",
   "execution_count": 65,
   "metadata": {},
   "outputs": [],
   "source": [
    "infer_mean_recalls = np.mean(user_recall, axis=1)"
   ]
  },
  {
   "cell_type": "code",
   "execution_count": 66,
   "metadata": {},
   "outputs": [],
   "source": [
    "mean_simulation_recall = infer_mean_recalls.mean()"
   ]
  },
  {
   "cell_type": "code",
   "execution_count": 67,
   "metadata": {},
   "outputs": [],
   "source": [
    "data2plot = pd.DataFrame({\"recall\":infer_mean_recalls})"
   ]
  },
  {
   "cell_type": "code",
   "execution_count": 68,
   "metadata": {},
   "outputs": [],
   "source": [
    "data2plot = data2plot.astype(dtype={'recall':np.float64})"
   ]
  },
  {
   "cell_type": "code",
   "execution_count": 69,
   "metadata": {},
   "outputs": [],
   "source": [
    "from ggplot import *"
   ]
  },
  {
   "cell_type": "code",
   "execution_count": 70,
   "metadata": {
    "scrolled": false
   },
   "outputs": [
    {
     "data": {
      "image/png": "[encoded data removed]",
      "text/plain": [
       "<Figure size 792x576 with 1 Axes>"
      ]
     },
     "metadata": {},
     "output_type": "display_data"
    },
    {
     "data": {
      "text/plain": [
       "<ggplot: (-9223363267156969286)>"
      ]
     },
     "execution_count": 70,
     "metadata": {},
     "output_type": "execute_result"
    }
   ],
   "source": [
    "ggplot(aes(x='recall'), data=data2plot) + \\\n",
    "    geom_density() + \\\n",
    "    geom_histogram(binwidth=0.0003) +\\\n",
    "    geom_vline(x=mean_simulation_recall, color='red', size=2) +\\\n",
    "    geom_vline(x=obs_mean_recall, color='blue', size=2)"
   ]
  },
  {
   "cell_type": "code",
   "execution_count": 71,
   "metadata": {},
   "outputs": [],
   "source": [
    "error = infer_mean_recalls - obs_mean_recall\n",
    "error2plot = pd.DataFrame({\"error\":error})"
   ]
  },
  {
   "cell_type": "code",
   "execution_count": 72,
   "metadata": {},
   "outputs": [
    {
     "data": {
      "image/png": "[encoded data removed]",
      "text/plain": [
       "<Figure size 792x576 with 1 Axes>"
      ]
     },
     "metadata": {},
     "output_type": "display_data"
    },
    {
     "data": {
      "text/plain": [
       "<ggplot: (-9223363267155365204)>"
      ]
     },
     "execution_count": 72,
     "metadata": {},
     "output_type": "execute_result"
    }
   ],
   "source": [
    "ggplot(aes(x='error'), data=error2plot) + \\\n",
    "    geom_density() + \\\n",
    "    geom_histogram(binwidth=0.0001)"
   ]
  },
  {
   "cell_type": "code",
   "execution_count": 169,
   "metadata": {
    "collapsed": true
   },
   "outputs": [],
   "source": [
    "# infer_mean_recalls = []\n",
    "# for pi_mat in la_loaded['pi']:\n",
    "    \n",
    "#     infer_pref = pd.DataFrame.from_records(pi_mat)\n",
    "#     infer_pref_tall = (infer_pref.reset_index()\n",
    "#         .melt(id_vars='index', var_name='item_ind', value_name='pref')\n",
    "#         .rename(columns={'index':'user_ind'}))\n",
    "#     infer_pref_tall = infer_pref_tall.astype({'item_ind': np.int64})\n",
    "#     infer_mean_recall = compute_recall(infer_pref_tall, recommendations, \n",
    "#                                    user_col='user_ind', item_col='item_ind', rating='pref')\n",
    "#     infer_mean_recalls.append(infer_mean_recall)"
   ]
  }
 ],
 "metadata": {
  "kernelspec": {
   "display_name": "Python 3",
   "language": "python",
   "name": "python3"
  },
  "language_info": {
   "codemirror_mode": {
    "name": "ipython",
    "version": 3
   },
   "file_extension": ".py",
   "mimetype": "text/x-python",
   "name": "python",
   "nbconvert_exporter": "python",
   "pygments_lexer": "ipython3",
   "version": "3.7.1"
  }
 },
 "nbformat": 4,
 "nbformat_minor": 2
}
