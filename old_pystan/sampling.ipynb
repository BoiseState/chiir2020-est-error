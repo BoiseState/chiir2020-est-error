{
 "cells": [
  {
   "cell_type": "code",
   "execution_count": 1,
   "metadata": {},
   "outputs": [],
   "source": [
    "import pystan\n",
    "import lenskit"
   ]
  },
  {
   "cell_type": "code",
   "execution_count": 2,
   "metadata": {},
   "outputs": [],
   "source": [
    "uniform_model_code = \"\"\"\n",
    "data {\n",
    "    int<lower=1> U; // number of users\n",
    "    int<lower=1> I; // number of items\n",
    "    int<lower=1> L; // length of the recommendation list\n",
    "    int<lower=0,upper=1> X[U*I];\n",
    "    int<lower=0> REC_LIST[U, L];\n",
    "}\n",
    "parameters {\n",
    "    real<lower=0> alpha;\n",
    "    real<lower=0> b;\n",
    "    real<lower=0, upper=1> pi[U*I];\n",
    "}\n",
    "model {\n",
    "    alpha ~ exponential(0.001);\n",
    "    b ~ exponential(0.001);\n",
    "    pi ~ beta(alpha, b);            \n",
    "    X ~ bernoulli(pi);\n",
    "}\n",
    "generated quantities {\n",
    "    real recall[U];\n",
    "\n",
    "    for (u in 1:U) {\n",
    "        real pi_u[I];\n",
    "        real pi_l[L];\n",
    "        real n_pi;\n",
    "        real k_pi;\n",
    "        int start = (u - 1) * I;\n",
    "        \n",
    "        for (i in 1:I) {\n",
    "            pi_u[i] = pi[start + i];\n",
    "        }    \n",
    "        n_pi = sum(round(pi_u));\n",
    "        \n",
    "        for (i in 1:L) {\n",
    "            int item_id = REC_LIST[u,i] + start + 1;\n",
    "            pi_l[i] = pi[item_id];\n",
    "        }\n",
    "        k_pi = sum(round(pi_l));\n",
    "        \n",
    "        recall[u] = n_pi / k_pi;\n",
    "    }          \n",
    "}\n",
    "\"\"\""
   ]
  },
  {
   "cell_type": "code",
   "execution_count": 3,
   "metadata": {},
   "outputs": [],
   "source": [
    "import pandas as pd"
   ]
  },
  {
   "cell_type": "code",
   "execution_count": 4,
   "metadata": {},
   "outputs": [],
   "source": [
    "ratings = pd.read_csv('./data/ml-100k/u.data', sep='\\t', names=['user', 'item', 'rating', 'timestamp']).drop('timestamp', axis=1)"
   ]
  },
  {
   "cell_type": "code",
   "execution_count": 5,
   "metadata": {},
   "outputs": [],
   "source": [
    "ratings['rel'] = 1"
   ]
  },
  {
   "cell_type": "code",
   "execution_count": 6,
   "metadata": {},
   "outputs": [],
   "source": [
    "train = pd.read_csv('./build/train.csv')\n",
    "test = pd.read_csv('./build/test.csv')\n",
    "recommendations = pd.read_csv('./build/recommendations_item-item.csv')"
   ]
  },
  {
   "cell_type": "markdown",
   "metadata": {},
   "source": [
    "Index all the items and the sample users in the recommendation lists."
   ]
  },
  {
   "cell_type": "code",
   "execution_count": 7,
   "metadata": {},
   "outputs": [],
   "source": [
    "item_index = pd.Index(ratings.item.unique())\n",
    "user_index = pd.Index(recommendations.user.unique())"
   ]
  },
  {
   "cell_type": "code",
   "execution_count": 8,
   "metadata": {},
   "outputs": [],
   "source": [
    "from scipy.sparse import csr_matrix"
   ]
  },
  {
   "cell_type": "code",
   "execution_count": 9,
   "metadata": {},
   "outputs": [],
   "source": [
    "sample_ratings = ratings[ratings['user'].isin(recommendations['user'].unique())]"
   ]
  },
  {
   "cell_type": "code",
   "execution_count": 10,
   "metadata": {},
   "outputs": [],
   "source": [
    "rows = user_index.get_indexer(sample_ratings['user'])\n",
    "cols = item_index.get_indexer(sample_ratings['item'])\n",
    "data = sample_ratings['rel'].values"
   ]
  },
  {
   "cell_type": "code",
   "execution_count": 11,
   "metadata": {},
   "outputs": [
    {
     "name": "stdout",
     "output_type": "stream",
     "text": [
      "20 1682\n"
     ]
    }
   ],
   "source": [
    "nusers = len(user_index)\n",
    "nitems = len(item_index)\n",
    "print(nusers, nitems)"
   ]
  },
  {
   "cell_type": "code",
   "execution_count": 12,
   "metadata": {},
   "outputs": [],
   "source": [
    "csr_ratings = csr_matrix((data, (rows, cols)), shape=(nusers, nitems))"
   ]
  },
  {
   "cell_type": "markdown",
   "metadata": {},
   "source": [
    "Convert sparse user-item pair to dense matrix in order to sample"
   ]
  },
  {
   "cell_type": "code",
   "execution_count": 13,
   "metadata": {},
   "outputs": [],
   "source": [
    "dense_ratings = csr_ratings.toarray()"
   ]
  },
  {
   "cell_type": "code",
   "execution_count": 14,
   "metadata": {},
   "outputs": [
    {
     "name": "stdout",
     "output_type": "stream",
     "text": [
      "(20, 1682)\n"
     ]
    }
   ],
   "source": [
    "print(dense_ratings.shape)"
   ]
  },
  {
   "cell_type": "code",
   "execution_count": 15,
   "metadata": {},
   "outputs": [],
   "source": [
    "X = dense_ratings.ravel()"
   ]
  },
  {
   "cell_type": "code",
   "execution_count": 16,
   "metadata": {},
   "outputs": [
    {
     "name": "stdout",
     "output_type": "stream",
     "text": [
      "33640 33640\n"
     ]
    }
   ],
   "source": [
    "print(len(X), nusers * nitems)"
   ]
  },
  {
   "cell_type": "code",
   "execution_count": 17,
   "metadata": {},
   "outputs": [],
   "source": [
    "recommendations['item_ind'] = item_index.get_indexer(recommendations['item'])"
   ]
  },
  {
   "cell_type": "code",
   "execution_count": 18,
   "metadata": {},
   "outputs": [],
   "source": [
    "recommendations['user_ind'] = user_index.get_indexer(recommendations['user'])"
   ]
  },
  {
   "cell_type": "code",
   "execution_count": 19,
   "metadata": {},
   "outputs": [],
   "source": [
    "REC_LIST = recommendations[['user_ind', 'item_ind', 'rank']].pivot_table(index='user_ind', columns='rank', values='item_ind').values\n",
    "L = REC_LIST.shape[1]"
   ]
  },
  {
   "cell_type": "code",
   "execution_count": 20,
   "metadata": {},
   "outputs": [
    {
     "name": "stderr",
     "output_type": "stream",
     "text": [
      "INFO:pystan:COMPILING THE C++ CODE FOR MODEL anon_model_a5f2e19446ee01e66e476753d50abf83 NOW.\n",
      "/home/MucunTian/anaconda3/envs/eval-error/lib/python3.7/site-packages/Cython/Compiler/Main.py:367: FutureWarning: Cython directive 'language_level' not set, using 2 for now (Py2). This will change in a later release! File: /tmp/tmp35bp4ka6/stanfit4anon_model_a5f2e19446ee01e66e476753d50abf83_2647608838872665062.pyx\n",
      "  tree = Parsing.p_module(s, pxd, full_module_name)\n"
     ]
    }
   ],
   "source": [
    "model_data = {'U': nusers,\n",
    "              'I': nitems,\n",
    "              'L': L,\n",
    "              'REC_LIST':REC_LIST,\n",
    "              'X': X}\n",
    "\n",
    "sm = pystan.StanModel(model_code=uniform_model_code)"
   ]
  },
  {
   "cell_type": "code",
   "execution_count": 21,
   "metadata": {},
   "outputs": [],
   "source": [
    "import pickle as pkl"
   ]
  },
  {
   "cell_type": "code",
   "execution_count": 22,
   "metadata": {},
   "outputs": [],
   "source": [
    "with open('build/uniform_model.pkl', 'wb') as f:\n",
    "    pkl.dump(sm, f)"
   ]
  },
  {
   "cell_type": "code",
   "execution_count": 48,
   "metadata": {},
   "outputs": [],
   "source": [
    "sm = None\n",
    "with open('build/uniform_model.pkl', 'rb') as f:\n",
    "    sm = pkl.load(f)"
   ]
  },
  {
   "cell_type": "code",
   "execution_count": 23,
   "metadata": {
    "scrolled": true
   },
   "outputs": [
    {
     "name": "stderr",
     "output_type": "stream",
     "text": [
      "WARNING:pystan:n_eff / iter for parameter recall[1] is nan!\n",
      "WARNING:pystan:n_eff / iter for parameter recall[2] is nan!\n",
      "WARNING:pystan:n_eff / iter for parameter recall[3] is nan!\n",
      "WARNING:pystan:n_eff / iter for parameter recall[4] is nan!\n",
      "WARNING:pystan:n_eff / iter for parameter recall[5] is nan!\n",
      "WARNING:pystan:n_eff / iter for parameter recall[6] is nan!\n",
      "WARNING:pystan:n_eff / iter for parameter recall[7] is nan!\n",
      "WARNING:pystan:n_eff / iter for parameter recall[8] is nan!\n",
      "WARNING:pystan:n_eff / iter for parameter recall[9] is nan!\n",
      "WARNING:pystan:n_eff / iter for parameter recall[10] is nan!\n",
      "WARNING:pystan:n_eff / iter for parameter recall[11] is nan!\n",
      "WARNING:pystan:n_eff / iter for parameter recall[12] is nan!\n",
      "WARNING:pystan:n_eff / iter for parameter recall[13] is nan!\n",
      "WARNING:pystan:n_eff / iter for parameter recall[14] is nan!\n",
      "WARNING:pystan:n_eff / iter for parameter recall[15] is nan!\n",
      "WARNING:pystan:n_eff / iter for parameter recall[16] is nan!\n",
      "WARNING:pystan:n_eff / iter for parameter recall[17] is nan!\n",
      "WARNING:pystan:n_eff / iter for parameter recall[18] is nan!\n",
      "WARNING:pystan:n_eff / iter for parameter recall[19] is nan!\n",
      "WARNING:pystan:n_eff / iter for parameter recall[20] is nan!\n",
      "WARNING:pystan:n_eff / iter below 0.001 indicates that the effective sample size has likely been overestimated\n",
      "WARNING:pystan:Rhat for parameter alpha is 4.532360738317236!\n",
      "WARNING:pystan:Rhat for parameter b is 4.046999969899297!\n",
      "WARNING:pystan:Rhat for parameter recall[1] is nan!\n",
      "WARNING:pystan:Rhat for parameter recall[2] is nan!\n",
      "WARNING:pystan:Rhat for parameter recall[3] is nan!\n",
      "WARNING:pystan:Rhat for parameter recall[4] is nan!\n",
      "WARNING:pystan:Rhat for parameter recall[5] is nan!\n",
      "WARNING:pystan:Rhat for parameter recall[6] is nan!\n",
      "WARNING:pystan:Rhat for parameter recall[7] is nan!\n",
      "WARNING:pystan:Rhat for parameter recall[8] is nan!\n",
      "WARNING:pystan:Rhat for parameter recall[9] is nan!\n",
      "WARNING:pystan:Rhat for parameter recall[10] is nan!\n",
      "WARNING:pystan:Rhat for parameter recall[11] is nan!\n",
      "WARNING:pystan:Rhat for parameter recall[12] is nan!\n",
      "WARNING:pystan:Rhat for parameter recall[13] is nan!\n",
      "WARNING:pystan:Rhat for parameter recall[14] is nan!\n",
      "WARNING:pystan:Rhat for parameter recall[15] is nan!\n",
      "WARNING:pystan:Rhat for parameter recall[16] is nan!\n",
      "WARNING:pystan:Rhat for parameter recall[17] is nan!\n",
      "WARNING:pystan:Rhat for parameter recall[18] is nan!\n",
      "WARNING:pystan:Rhat for parameter recall[19] is nan!\n",
      "WARNING:pystan:Rhat for parameter recall[20] is nan!\n",
      "WARNING:pystan:Rhat for parameter lp__ is 4.717855646313188!\n",
      "WARNING:pystan:Rhat above 1.1 or below 0.9 indicates that the chains very likely have not mixed\n",
      "WARNING:pystan:1 of 2000 iterations saturated the maximum tree depth of 10 (0.05%)\n",
      "WARNING:pystan:Run again with max_treedepth larger than 10 to avoid saturation\n",
      "WARNING:pystan:Chain 1: E-BFMI = 0.04594844021694995\n",
      "WARNING:pystan:Chain 2: E-BFMI = 0.009343289889272386\n",
      "WARNING:pystan:Chain 3: E-BFMI = 0.012973124243438824\n",
      "WARNING:pystan:Chain 4: E-BFMI = 0.010621204315071173\n",
      "WARNING:pystan:E-BFMI below 0.2 indicates you may need to reparameterize your model\n"
     ]
    }
   ],
   "source": [
    "fit = sm.sampling(data=model_data, iter=1000, chains=4, n_jobs=14)\n",
    "# fit = sm.sampling(data=model_data, iter=2000, chains=4, n_jobs=14, control={'max_treedepth': 15})"
   ]
  },
  {
   "cell_type": "code",
   "execution_count": 24,
   "metadata": {},
   "outputs": [],
   "source": [
    "la = fit.extract(permuted=True)"
   ]
  },
  {
   "cell_type": "code",
   "execution_count": 30,
   "metadata": {},
   "outputs": [],
   "source": [
    "with open('build/uniform_model_sampling.pkl', 'wb') as f:\n",
    "    pkl.dump(la, f)"
   ]
  },
  {
   "cell_type": "code",
   "execution_count": 31,
   "metadata": {},
   "outputs": [],
   "source": [
    "la_loaded = None\n",
    "with open('build/uniform_model_sampling.pkl', 'rb') as f:\n",
    "    la_loaded = pkl.load(f)"
   ]
  },
  {
   "cell_type": "code",
   "execution_count": 36,
   "metadata": {},
   "outputs": [],
   "source": [
    "import numpy as np"
   ]
  },
  {
   "cell_type": "code",
   "execution_count": 41,
   "metadata": {},
   "outputs": [
    {
     "data": {
      "text/plain": [
       "(2000, 33640)"
      ]
     },
     "execution_count": 41,
     "metadata": {},
     "output_type": "execute_result"
    }
   ],
   "source": [
    "la_loaded['pi'].shape"
   ]
  },
  {
   "cell_type": "code",
   "execution_count": 42,
   "metadata": {},
   "outputs": [
    {
     "data": {
      "text/plain": [
       "array([], shape=(0, 2), dtype=int64)"
      ]
     },
     "execution_count": 42,
     "metadata": {},
     "output_type": "execute_result"
    }
   ],
   "source": [
    "np.argwhere(la_loaded['pi'] > 0.5)"
   ]
  },
  {
   "cell_type": "code",
   "execution_count": 39,
   "metadata": {},
   "outputs": [
    {
     "data": {
      "text/plain": [
       "array([[   0,    0],\n",
       "       [   0,    1],\n",
       "       [   0,    2],\n",
       "       ...,\n",
       "       [1999,   17],\n",
       "       [1999,   18],\n",
       "       [1999,   19]])"
      ]
     },
     "execution_count": 39,
     "metadata": {},
     "output_type": "execute_result"
    }
   ],
   "source": [
    "np.argwhere(np.isnan(la_loaded['recall']))"
   ]
  },
  {
   "cell_type": "markdown",
   "metadata": {},
   "source": [
    "Metric on Observations"
   ]
  },
  {
   "cell_type": "code",
   "execution_count": 113,
   "metadata": {
    "collapsed": true
   },
   "outputs": [],
   "source": [
    "rec_rel = recommendations.merge(test, how='left', on=['user', 'item'])[['user','item','rating']]\n",
    "rec_rel['relevant'] = rec_rel['rating'] > 0\n",
    "rec_tp = rec_rel.groupby('user').sum()['relevant'].reset_index()\n",
    "total_pos = ratings[['user','item']].groupby('user',as_index=False).count()\n",
    "obs_recall = rec_tp.merge(total_pos)\n",
    "obs_recall['recall'] = obs_recall.relevant / obs_recall.item"
   ]
  },
  {
   "cell_type": "code",
   "execution_count": 116,
   "metadata": {},
   "outputs": [
    {
     "data": {
      "text/html": [
       "<div>\n",
       "<style scoped>\n",
       "    .dataframe tbody tr th:only-of-type {\n",
       "        vertical-align: middle;\n",
       "    }\n",
       "\n",
       "    .dataframe tbody tr th {\n",
       "        vertical-align: top;\n",
       "    }\n",
       "\n",
       "    .dataframe thead th {\n",
       "        text-align: right;\n",
       "    }\n",
       "</style>\n",
       "<table border=\"1\" class=\"dataframe\">\n",
       "  <thead>\n",
       "    <tr style=\"text-align: right;\">\n",
       "      <th></th>\n",
       "      <th>user</th>\n",
       "      <th>relevant</th>\n",
       "      <th>item</th>\n",
       "      <th>recall</th>\n",
       "    </tr>\n",
       "  </thead>\n",
       "  <tbody>\n",
       "    <tr>\n",
       "      <th>0</th>\n",
       "      <td>1</td>\n",
       "      <td>5.0</td>\n",
       "      <td>272</td>\n",
       "      <td>0.018382</td>\n",
       "    </tr>\n",
       "    <tr>\n",
       "      <th>1</th>\n",
       "      <td>2</td>\n",
       "      <td>2.0</td>\n",
       "      <td>62</td>\n",
       "      <td>0.032258</td>\n",
       "    </tr>\n",
       "    <tr>\n",
       "      <th>2</th>\n",
       "      <td>3</td>\n",
       "      <td>0.0</td>\n",
       "      <td>54</td>\n",
       "      <td>0.000000</td>\n",
       "    </tr>\n",
       "    <tr>\n",
       "      <th>3</th>\n",
       "      <td>4</td>\n",
       "      <td>0.0</td>\n",
       "      <td>24</td>\n",
       "      <td>0.000000</td>\n",
       "    </tr>\n",
       "    <tr>\n",
       "      <th>4</th>\n",
       "      <td>5</td>\n",
       "      <td>0.0</td>\n",
       "      <td>175</td>\n",
       "      <td>0.000000</td>\n",
       "    </tr>\n",
       "  </tbody>\n",
       "</table>\n",
       "</div>"
      ],
      "text/plain": [
       "   user  relevant  item    recall\n",
       "0     1       5.0   272  0.018382\n",
       "1     2       2.0    62  0.032258\n",
       "2     3       0.0    54  0.000000\n",
       "3     4       0.0    24  0.000000\n",
       "4     5       0.0   175  0.000000"
      ]
     },
     "execution_count": 116,
     "metadata": {},
     "output_type": "execute_result"
    }
   ],
   "source": [
    "obs_recall.head()"
   ]
  },
  {
   "cell_type": "code",
   "execution_count": 120,
   "metadata": {},
   "outputs": [
    {
     "data": {
      "image/png": "[encoded data removed]",
      "text/plain": [
       "<Figure size 432x288 with 1 Axes>"
      ]
     },
     "metadata": {
      "needs_background": "light"
     },
     "output_type": "display_data"
    }
   ],
   "source": [
    "import seaborn as sns\n",
    "import matplotlib.pyplot as plt\n",
    "\n",
    "sns.distplot(obs_recall.recall)\n",
    "plt.show()"
   ]
  },
  {
   "cell_type": "markdown",
   "metadata": {},
   "source": [
    "Metric on Inferences"
   ]
  },
  {
   "cell_type": "code",
   "execution_count": 25,
   "metadata": {
    "collapsed": true
   },
   "outputs": [],
   "source": [
    "la = fit.extract(permuted=True)"
   ]
  },
  {
   "cell_type": "code",
   "execution_count": 123,
   "metadata": {
    "collapsed": true
   },
   "outputs": [],
   "source": [
    "true_pref = pd.DataFrame.from_records(la['pi'][5000])"
   ]
  },
  {
   "cell_type": "code",
   "execution_count": 156,
   "metadata": {
    "collapsed": true
   },
   "outputs": [],
   "source": [
    "true_pref_tall = true_pref.stack().reset_index().rename(columns={'level_0':'user',\n",
    "                                                'level_1':'item',\n",
    "                                                0:'pref'})\n",
    "true_pref_tall['rel'] = true_pref_tall['pref'] > 0.5\n",
    "true_pref_tall.loc[:, 'user'] = true_pref_tall['user'] + 1\n",
    "true_pref_tall.loc[:, 'item'] = true_pref_tall['item'] + 1"
   ]
  },
  {
   "cell_type": "code",
   "execution_count": 158,
   "metadata": {
    "collapsed": true
   },
   "outputs": [],
   "source": [
    "true_rec_rel = recommendations.merge(true_pref_tall, how='left', on=['user', 'item'])[['user','item','rel']]\n",
    "\n",
    "true_rec_tp = true_rec_rel[['user', 'rel']].groupby('user').sum()['rel'].reset_index()\n",
    "true_total_pos = true_pref_tall[['user','item']].groupby('user',as_index=False).count()\n",
    "true_recall = true_rec_tp.merge(true_total_pos)\n",
    "true_recall['recall'] = true_recall.rel / true_recall.item"
   ]
  },
  {
   "cell_type": "code",
   "execution_count": 159,
   "metadata": {},
   "outputs": [
    {
     "data": {
      "text/html": [
       "<div>\n",
       "<style scoped>\n",
       "    .dataframe tbody tr th:only-of-type {\n",
       "        vertical-align: middle;\n",
       "    }\n",
       "\n",
       "    .dataframe tbody tr th {\n",
       "        vertical-align: top;\n",
       "    }\n",
       "\n",
       "    .dataframe thead th {\n",
       "        text-align: right;\n",
       "    }\n",
       "</style>\n",
       "<table border=\"1\" class=\"dataframe\">\n",
       "  <thead>\n",
       "    <tr style=\"text-align: right;\">\n",
       "      <th></th>\n",
       "      <th>user</th>\n",
       "      <th>rel</th>\n",
       "      <th>item</th>\n",
       "      <th>recall</th>\n",
       "    </tr>\n",
       "  </thead>\n",
       "  <tbody>\n",
       "    <tr>\n",
       "      <th>0</th>\n",
       "      <td>1</td>\n",
       "      <td>0</td>\n",
       "      <td>10</td>\n",
       "      <td>0.0</td>\n",
       "    </tr>\n",
       "    <tr>\n",
       "      <th>1</th>\n",
       "      <td>2</td>\n",
       "      <td>0</td>\n",
       "      <td>10</td>\n",
       "      <td>0.0</td>\n",
       "    </tr>\n",
       "    <tr>\n",
       "      <th>2</th>\n",
       "      <td>3</td>\n",
       "      <td>0</td>\n",
       "      <td>10</td>\n",
       "      <td>0.0</td>\n",
       "    </tr>\n",
       "    <tr>\n",
       "      <th>3</th>\n",
       "      <td>4</td>\n",
       "      <td>0</td>\n",
       "      <td>10</td>\n",
       "      <td>0.0</td>\n",
       "    </tr>\n",
       "    <tr>\n",
       "      <th>4</th>\n",
       "      <td>5</td>\n",
       "      <td>0</td>\n",
       "      <td>10</td>\n",
       "      <td>0.0</td>\n",
       "    </tr>\n",
       "    <tr>\n",
       "      <th>5</th>\n",
       "      <td>6</td>\n",
       "      <td>0</td>\n",
       "      <td>10</td>\n",
       "      <td>0.0</td>\n",
       "    </tr>\n",
       "    <tr>\n",
       "      <th>6</th>\n",
       "      <td>7</td>\n",
       "      <td>0</td>\n",
       "      <td>10</td>\n",
       "      <td>0.0</td>\n",
       "    </tr>\n",
       "    <tr>\n",
       "      <th>7</th>\n",
       "      <td>8</td>\n",
       "      <td>0</td>\n",
       "      <td>10</td>\n",
       "      <td>0.0</td>\n",
       "    </tr>\n",
       "    <tr>\n",
       "      <th>8</th>\n",
       "      <td>9</td>\n",
       "      <td>0</td>\n",
       "      <td>10</td>\n",
       "      <td>0.0</td>\n",
       "    </tr>\n",
       "    <tr>\n",
       "      <th>9</th>\n",
       "      <td>10</td>\n",
       "      <td>0</td>\n",
       "      <td>10</td>\n",
       "      <td>0.0</td>\n",
       "    </tr>\n",
       "  </tbody>\n",
       "</table>\n",
       "</div>"
      ],
      "text/plain": [
       "   user  rel  item  recall\n",
       "0     1    0    10     0.0\n",
       "1     2    0    10     0.0\n",
       "2     3    0    10     0.0\n",
       "3     4    0    10     0.0\n",
       "4     5    0    10     0.0\n",
       "5     6    0    10     0.0\n",
       "6     7    0    10     0.0\n",
       "7     8    0    10     0.0\n",
       "8     9    0    10     0.0\n",
       "9    10    0    10     0.0"
      ]
     },
     "execution_count": 159,
     "metadata": {},
     "output_type": "execute_result"
    }
   ],
   "source": [
    "true_recall"
   ]
  },
  {
   "cell_type": "code",
   "execution_count": null,
   "metadata": {
    "collapsed": true
   },
   "outputs": [],
   "source": [
    "\"\"\"\n",
    "transformed parameters {\n",
    "    matrix<lower=0, upper=1>[U, I] psi_transformed;\n",
    "    psi_transformed = 1 - pi + psi\n",
    "}\n",
    "generated quantities {\n",
    "\n",
    "}\n",
    "\"\"\""
   ]
  }
 ],
 "metadata": {
  "kernelspec": {
   "display_name": "Python 3",
   "language": "python",
   "name": "python3"
  },
  "language_info": {
   "codemirror_mode": {
    "name": "ipython",
    "version": 3
   },
   "file_extension": ".py",
   "mimetype": "text/x-python",
   "name": "python",
   "nbconvert_exporter": "python",
   "pygments_lexer": "ipython3",
   "version": "3.7.0"
  }
 },
 "nbformat": 4,
 "nbformat_minor": 2
}
