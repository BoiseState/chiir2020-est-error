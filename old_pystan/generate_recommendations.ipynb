{
 "cells": [
  {
   "cell_type": "code",
   "execution_count": 1,
   "metadata": {},
   "outputs": [],
   "source": [
    "import logging, logging.config\n",
    "import yaml"
   ]
  },
  {
   "cell_type": "code",
   "execution_count": 2,
   "metadata": {},
   "outputs": [],
   "source": [
    "import datasets as ds\n",
    "import rec_ops\n",
    "import algorithms\n",
    "from lenskit import crossfold as xf\n",
    "from lenskit import batch, topn\n",
    "import os\n",
    "from os import path\n",
    "from os import makedirs"
   ]
  },
  {
   "cell_type": "code",
   "execution_count": 3,
   "metadata": {},
   "outputs": [],
   "source": [
    "with open('logging.yaml') as lf:\n",
    "    log_config = yaml.load(lf)"
   ]
  },
  {
   "cell_type": "code",
   "execution_count": 4,
   "metadata": {},
   "outputs": [],
   "source": [
    "if not os.path.exists('./build'):\n",
    "    try:\n",
    "        os.makedirs('./build')\n",
    "        print('path ./build created')\n",
    "    except:\n",
    "        pass"
   ]
  },
  {
   "cell_type": "code",
   "execution_count": 5,
   "metadata": {},
   "outputs": [],
   "source": [
    "logging.config.dictConfig(log_config)\n",
    "_log = logging.getLogger('eval_error.runner')"
   ]
  },
  {
   "cell_type": "code",
   "execution_count": 6,
   "metadata": {},
   "outputs": [],
   "source": [
    "ml_100k = getattr(ds, 'ml_100k')\n",
    "ratings = ml_100k()"
   ]
  },
  {
   "cell_type": "code",
   "execution_count": 7,
   "metadata": {},
   "outputs": [],
   "source": [
    "splits = xf.sample_users(ratings, 1, 100, xf.SampleFrac(0.1))"
   ]
  },
  {
   "cell_type": "code",
   "execution_count": 8,
   "metadata": {},
   "outputs": [
    {
     "name": "stdout",
     "output_type": "stream",
     "text": [
      "INFO lenskit.crossfold sampling 943 users into 1 partitions (n=100)\n"
     ]
    }
   ],
   "source": [
    "train, test = next(splits)"
   ]
  },
  {
   "cell_type": "code",
   "execution_count": 9,
   "metadata": {},
   "outputs": [
    {
     "data": {
      "text/plain": [
       "943"
      ]
     },
     "execution_count": 9,
     "metadata": {},
     "output_type": "execute_result"
    }
   ],
   "source": [
    "len(train.user.unique())"
   ]
  },
  {
   "cell_type": "code",
   "execution_count": 10,
   "metadata": {},
   "outputs": [
    {
     "data": {
      "text/plain": [
       "100"
      ]
     },
     "execution_count": 10,
     "metadata": {},
     "output_type": "execute_result"
    }
   ],
   "source": [
    "len(test.user.unique())"
   ]
  },
  {
   "cell_type": "code",
   "execution_count": 11,
   "metadata": {},
   "outputs": [
    {
     "data": {
      "text/plain": [
       "943"
      ]
     },
     "execution_count": 11,
     "metadata": {},
     "output_type": "execute_result"
    }
   ],
   "source": [
    "len(ratings.user.unique())"
   ]
  },
  {
   "cell_type": "code",
   "execution_count": 12,
   "metadata": {},
   "outputs": [],
   "source": [
    "train.to_csv('build/train.csv', index=False)\n",
    "test.to_csv('build/test.csv', index=False)"
   ]
  },
  {
   "cell_type": "code",
   "execution_count": 13,
   "metadata": {},
   "outputs": [],
   "source": [
    "algo_names = ['item-item', 'funksvd']"
   ]
  },
  {
   "cell_type": "code",
   "execution_count": 14,
   "metadata": {},
   "outputs": [],
   "source": [
    "from tqdm import tqdm"
   ]
  },
  {
   "cell_type": "code",
   "execution_count": 15,
   "metadata": {},
   "outputs": [
    {
     "name": "stderr",
     "output_type": "stream",
     "text": [
      "\r",
      "  0%|          | 0/2 [00:00<?, ?it/s]"
     ]
    },
    {
     "name": "stdout",
     "output_type": "stream",
     "text": [
      "INFO lenskit.algorithms.item_knn [ 1.12s] made sparse matrix for 1679 items (99035 ratings)\n",
      "INFO lenskit.algorithms.item_knn [ 1.13s] computed means for 1679 items\n",
      "INFO lenskit.algorithms.item_knn [ 1.19s] normalized user-item ratings\n",
      "INFO lenskit.algorithms.item_knn [ 1.20s] computing similarity matrix\n",
      "INFO lenskit._mkl_ops Loaded MKL\n",
      "INFO lenskit.algorithms.item_knn [ 1.32s] multiplying matrix\n",
      "INFO lenskit.algorithms.item_knn [ 1.37s] filtering similarities\n",
      "INFO lenskit.algorithms.item_knn [ 1.38s] filter keeps 600432 of 887436 entries\n",
      "INFO lenskit.algorithms.item_knn [ 1.42s] making matrix symmetric (600432 nnz)\n",
      "INFO lenskit.algorithms.item_knn [ 1.43s] ordering similarities\n",
      "INFO lenskit.algorithms.item_knn [ 2.11s] got neighborhoods for 1514 of 1679 items\n",
      "INFO lenskit.algorithms.item_knn [ 2.11s] computed 1200864 neighbor pairs\n"
     ]
    },
    {
     "name": "stderr",
     "output_type": "stream",
     "text": [
      "\r",
      " 50%|█████     | 1/2 [00:04<00:04,  4.47s/it]"
     ]
    },
    {
     "name": "stdout",
     "output_type": "stream",
     "text": [
      "INFO lenskit.algorithms.funksvd [ 0ms] training bias model\n",
      "INFO lenskit.algorithms.basic building bias model for 99035 ratings\n",
      "INFO lenskit.algorithms.basic global mean: 3.530\n",
      "INFO lenskit.algorithms.basic computed means for 1679 items\n",
      "INFO lenskit.algorithms.basic computed means for 943 users\n",
      "INFO lenskit.algorithms.funksvd [ 50ms] preparing rating data for 99035 samples\n",
      "INFO lenskit.algorithms.funksvd [ 1.79s] training biased MF model with 15 features\n",
      "INFO lenskit.algorithms.funksvd [ 2.85s] finished feature 0 (RMSE=0.912326) in 1.06s\n",
      "INFO lenskit.algorithms.funksvd [ 3.04s] finished feature 1 (RMSE=0.901076) in 0.18s\n",
      "INFO lenskit.algorithms.funksvd [ 3.22s] finished feature 2 (RMSE=0.895816) in 0.17s\n",
      "INFO lenskit.algorithms.funksvd [ 3.40s] finished feature 3 (RMSE=0.894137) in 0.18s\n",
      "INFO lenskit.algorithms.funksvd [ 3.58s] finished feature 4 (RMSE=0.892832) in 0.18s\n",
      "INFO lenskit.algorithms.funksvd [ 3.76s] finished feature 5 (RMSE=0.891723) in 0.18s\n",
      "INFO lenskit.algorithms.funksvd [ 3.94s] finished feature 6 (RMSE=0.890786) in 0.18s\n",
      "INFO lenskit.algorithms.funksvd [ 4.13s] finished feature 7 (RMSE=0.890005) in 0.18s\n",
      "INFO lenskit.algorithms.funksvd [ 4.31s] finished feature 8 (RMSE=0.889363) in 0.18s\n",
      "INFO lenskit.algorithms.funksvd [ 4.49s] finished feature 9 (RMSE=0.888841) in 0.17s\n",
      "INFO lenskit.algorithms.funksvd [ 4.67s] finished feature 10 (RMSE=0.888422) in 0.17s\n",
      "INFO lenskit.algorithms.funksvd [ 4.85s] finished feature 11 (RMSE=0.888086) in 0.17s\n",
      "INFO lenskit.algorithms.funksvd [ 5.03s] finished feature 12 (RMSE=0.887815) in 0.18s\n",
      "INFO lenskit.algorithms.funksvd [ 5.22s] finished feature 13 (RMSE=0.887591) in 0.18s\n",
      "INFO lenskit.algorithms.funksvd [ 5.40s] finished feature 14 (RMSE=0.887403) in 0.18s\n",
      "INFO lenskit.algorithms.funksvd finished model training in  5.40s\n"
     ]
    },
    {
     "name": "stderr",
     "output_type": "stream",
     "text": [
      "100%|██████████| 2/2 [00:10<00:00,  4.98s/it]\n"
     ]
    }
   ],
   "source": [
    "for algo_name in tqdm(algo_names):\n",
    "    algo = getattr(algorithms, algo_name.replace('-', '_'))\n",
    "    _log.info('training %s on %s with %d rows', algo, ml_100k, len(train))\n",
    "    model = algo.train(train)\n",
    "    users = test.user.unique()\n",
    "    recs = batch.recommend(algo, model, users, 100, topn.UnratedCandidates(train))\n",
    "    recs.to_csv('build/recommendations_{}.csv'.format(algo_name), index=False)"
   ]
  },
  {
   "cell_type": "code",
   "execution_count": null,
   "metadata": {
    "collapsed": true
   },
   "outputs": [],
   "source": []
  }
 ],
 "metadata": {
  "kernelspec": {
   "display_name": "Python 3",
   "language": "python",
   "name": "python3"
  },
  "language_info": {
   "codemirror_mode": {
    "name": "ipython",
    "version": 3
   },
   "file_extension": ".py",
   "mimetype": "text/x-python",
   "name": "python",
   "nbconvert_exporter": "python",
   "pygments_lexer": "ipython3",
   "version": "3.7.0"
  }
 },
 "nbformat": 4,
 "nbformat_minor": 1
}
